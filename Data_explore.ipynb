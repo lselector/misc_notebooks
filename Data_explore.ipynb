{
 "cells": [
  {
   "cell_type": "markdown",
   "metadata": {},
   "source": [
    "## Explore Data"
   ]
  },
  {
   "cell_type": "code",
   "execution_count": 1,
   "metadata": {},
   "outputs": [],
   "source": [
    "import numpy as np\n",
    "import matplotlib.pylab as plt\n",
    "%matplotlib inline\n",
    "%config InlineBackend.figure_format = 'retina'\n",
    "from util_jupyter import *"
   ]
  },
  {
   "cell_type": "code",
   "execution_count": 2,
   "metadata": {},
   "outputs": [
    {
     "name": "stdout",
     "output_type": "stream",
     "text": [
      "Admission_Predict.csv\r\n",
      "Admission_Predict_Ver1.1.csv\r\n",
      "Titanic.csv\r\n"
     ]
    }
   ],
   "source": [
    "!ls -1 data/"
   ]
  },
  {
   "cell_type": "code",
   "execution_count": 3,
   "metadata": {},
   "outputs": [
    {
     "name": "stdout",
     "output_type": "stream",
     "text": [
      "rows = 400, cols =  9, ['Serial No.', 'GRE Score', 'TOEFL Score', 'University Rating', 'SOP', 'LOR ', 'CGPA', 'Research', 'Chance of Admit ']\n",
      "HEAD:\n"
     ]
    },
    {
     "data": {
      "text/html": [
       "<div>\n",
       "<style scoped>\n",
       "    .dataframe tbody tr th:only-of-type {\n",
       "        vertical-align: middle;\n",
       "    }\n",
       "\n",
       "    .dataframe tbody tr th {\n",
       "        vertical-align: top;\n",
       "    }\n",
       "\n",
       "    .dataframe thead th {\n",
       "        text-align: right;\n",
       "    }\n",
       "</style>\n",
       "<table border=\"1\" class=\"dataframe\">\n",
       "  <thead>\n",
       "    <tr style=\"text-align: right;\">\n",
       "      <th></th>\n",
       "      <th>Serial No.</th>\n",
       "      <th>GRE Score</th>\n",
       "      <th>TOEFL Score</th>\n",
       "      <th>University Rating</th>\n",
       "      <th>SOP</th>\n",
       "      <th>LOR</th>\n",
       "      <th>CGPA</th>\n",
       "      <th>Research</th>\n",
       "      <th>Chance of Admit</th>\n",
       "    </tr>\n",
       "  </thead>\n",
       "  <tbody>\n",
       "    <tr>\n",
       "      <th>0</th>\n",
       "      <td>1</td>\n",
       "      <td>337</td>\n",
       "      <td>118</td>\n",
       "      <td>4</td>\n",
       "      <td>4.5</td>\n",
       "      <td>4.5</td>\n",
       "      <td>9.65</td>\n",
       "      <td>1</td>\n",
       "      <td>0.92</td>\n",
       "    </tr>\n",
       "    <tr>\n",
       "      <th>1</th>\n",
       "      <td>2</td>\n",
       "      <td>324</td>\n",
       "      <td>107</td>\n",
       "      <td>4</td>\n",
       "      <td>4.0</td>\n",
       "      <td>4.5</td>\n",
       "      <td>8.87</td>\n",
       "      <td>1</td>\n",
       "      <td>0.76</td>\n",
       "    </tr>\n",
       "    <tr>\n",
       "      <th>2</th>\n",
       "      <td>3</td>\n",
       "      <td>316</td>\n",
       "      <td>104</td>\n",
       "      <td>3</td>\n",
       "      <td>3.0</td>\n",
       "      <td>3.5</td>\n",
       "      <td>8.00</td>\n",
       "      <td>1</td>\n",
       "      <td>0.72</td>\n",
       "    </tr>\n",
       "  </tbody>\n",
       "</table>\n",
       "</div>"
      ],
      "text/plain": [
       "   Serial No.  GRE Score  TOEFL Score  University Rating  SOP  LOR   CGPA  Research  Chance of Admit \n",
       "0           1        337          118                  4  4.5   4.5  9.65         1              0.92\n",
       "1           2        324          107                  4  4.0   4.5  8.87         1              0.76\n",
       "2           3        316          104                  3  3.0   3.5  8.00         1              0.72"
      ]
     },
     "metadata": {},
     "output_type": "display_data"
    },
    {
     "name": "stdout",
     "output_type": "stream",
     "text": [
      "TAIL:\n"
     ]
    },
    {
     "data": {
      "text/html": [
       "<div>\n",
       "<style scoped>\n",
       "    .dataframe tbody tr th:only-of-type {\n",
       "        vertical-align: middle;\n",
       "    }\n",
       "\n",
       "    .dataframe tbody tr th {\n",
       "        vertical-align: top;\n",
       "    }\n",
       "\n",
       "    .dataframe thead th {\n",
       "        text-align: right;\n",
       "    }\n",
       "</style>\n",
       "<table border=\"1\" class=\"dataframe\">\n",
       "  <thead>\n",
       "    <tr style=\"text-align: right;\">\n",
       "      <th></th>\n",
       "      <th>Serial No.</th>\n",
       "      <th>GRE Score</th>\n",
       "      <th>TOEFL Score</th>\n",
       "      <th>University Rating</th>\n",
       "      <th>SOP</th>\n",
       "      <th>LOR</th>\n",
       "      <th>CGPA</th>\n",
       "      <th>Research</th>\n",
       "      <th>Chance of Admit</th>\n",
       "    </tr>\n",
       "  </thead>\n",
       "  <tbody>\n",
       "    <tr>\n",
       "      <th>397</th>\n",
       "      <td>398</td>\n",
       "      <td>330</td>\n",
       "      <td>116</td>\n",
       "      <td>4</td>\n",
       "      <td>5.0</td>\n",
       "      <td>4.5</td>\n",
       "      <td>9.45</td>\n",
       "      <td>1</td>\n",
       "      <td>0.91</td>\n",
       "    </tr>\n",
       "    <tr>\n",
       "      <th>398</th>\n",
       "      <td>399</td>\n",
       "      <td>312</td>\n",
       "      <td>103</td>\n",
       "      <td>3</td>\n",
       "      <td>3.5</td>\n",
       "      <td>4.0</td>\n",
       "      <td>8.78</td>\n",
       "      <td>0</td>\n",
       "      <td>0.67</td>\n",
       "    </tr>\n",
       "    <tr>\n",
       "      <th>399</th>\n",
       "      <td>400</td>\n",
       "      <td>333</td>\n",
       "      <td>117</td>\n",
       "      <td>4</td>\n",
       "      <td>5.0</td>\n",
       "      <td>4.0</td>\n",
       "      <td>9.66</td>\n",
       "      <td>1</td>\n",
       "      <td>0.95</td>\n",
       "    </tr>\n",
       "  </tbody>\n",
       "</table>\n",
       "</div>"
      ],
      "text/plain": [
       "     Serial No.  GRE Score  TOEFL Score  University Rating  SOP  LOR   CGPA  Research  Chance of Admit \n",
       "397         398        330          116                  4  5.0   4.5  9.45         1              0.91\n",
       "398         399        312          103                  3  3.5   4.0  8.78         0              0.67\n",
       "399         400        333          117                  4  5.0   4.0  9.66         1              0.95"
      ]
     },
     "metadata": {},
     "output_type": "display_data"
    },
    {
     "name": "stdout",
     "output_type": "stream",
     "text": [
      "--------------------------------------------------\n"
     ]
    }
   ],
   "source": [
    "df = pd.read_csv(\"data/Admission_Predict.csv\")\n",
    "sdf(df)"
   ]
  },
  {
   "cell_type": "code",
   "execution_count": 4,
   "metadata": {},
   "outputs": [
    {
     "data": {
      "text/plain": [
       "SerNo          0\n",
       "GRE            0\n",
       "TOEFL          0\n",
       "UnivRating     0\n",
       "SOP            0\n",
       "LOR            0\n",
       "CGPA           0\n",
       "Research       0\n",
       "ChanceAdmit    0\n",
       "dtype: int64"
      ]
     },
     "execution_count": 4,
     "metadata": {},
     "output_type": "execute_result"
    }
   ],
   "source": [
    "# simplify column names\n",
    "df.columns=['SerNo', 'GRE', 'TOEFL', 'UnivRating', 'SOP', 'LOR', 'CGPA', 'Research', 'ChanceAdmit']\n",
    "\n",
    "# check for nulls\n",
    "df.isnull().sum()"
   ]
  },
  {
   "cell_type": "code",
   "execution_count": 5,
   "metadata": {},
   "outputs": [
    {
     "data": {
      "text/plain": [
       "SerNo            int64\n",
       "GRE              int64\n",
       "TOEFL            int64\n",
       "UnivRating       int64\n",
       "SOP            float64\n",
       "LOR            float64\n",
       "CGPA           float64\n",
       "Research         int64\n",
       "ChanceAdmit    float64\n",
       "dtype: object"
      ]
     },
     "execution_count": 5,
     "metadata": {},
     "output_type": "execute_result"
    }
   ],
   "source": [
    "# columns datatypes\n",
    "df.dtypes"
   ]
  },
  {
   "cell_type": "code",
   "execution_count": 6,
   "metadata": {},
   "outputs": [
    {
     "data": {
      "image/png": "[encoded data removed]",
      "text/plain": [
       "<Figure size 864x144 with 9 Axes>"
      ]
     },
     "metadata": {
      "image/png": {
       "height": 135,
       "width": 863
      },
      "needs_background": "light"
     },
     "output_type": "display_data"
    }
   ],
   "source": [
    "fig, axes = plt.subplots(nrows=1, ncols=9,figsize=(12,2))\n",
    "ax = axes.flatten()\n",
    "cols = list(df.columns)\n",
    "for ii in range(len(cols)):\n",
    "    col = cols[ii]\n",
    "    x = df[col].values\n",
    "    ax[ii].hist(x)\n",
    "    ax[ii].set_title(col)\n",
    "\n",
    "fig.tight_layout()\n",
    "plt.show() ;"
   ]
  },
  {
   "cell_type": "code",
   "execution_count": 7,
   "metadata": {},
   "outputs": [],
   "source": [
    "# dealing with nulls\n",
    "# ==========================\n",
    "# mask = pd.isnull(aa['ii'])\n",
    "# aa[mask]\n",
    "# ==========================\n",
    "# df_clean = df.fillna(0) # fill all nulls with zeros \n",
    "# df[\"Gender\"].fillna(\"No Gender\", inplace = True)\n",
    "# ==========================\n",
    "# filling null value with previous ones (in same columns)  \n",
    "# df_clean = df.fillna(method ='pad') \n",
    "# filling null value using next value (in same columns)  \n",
    "# df_clean = df.fillna(method ='bfill') \n",
    "# ==========================\n",
    "# df_clean = df.replace(to_replace = np.nan, value = -99)\n",
    "# ==========================\n",
    "# Using interpolate()\n",
    "# df_clean = df.interpolate(method ='linear', limit_direction ='forward')\n",
    "# ==========================\n",
    "# simply dropping rows with nulls\n",
    "# df_clean = df.dropna()             # drop row if any value is null\n",
    "# df_clean = df.dropna(axis = 0, how ='any')  \n",
    "# ==========================\n",
    "# df_clean = df.dropna(how = 'all')  # drop row only if all values are null\n",
    "# ==========================\n",
    "# drop columns with nulls\n",
    "# df_clean = df.dropna(axis = 1) "
   ]
  },
  {
   "cell_type": "code",
   "execution_count": 8,
   "metadata": {},
   "outputs": [],
   "source": [
    "# https://www.kaggle.com/mohansacharya/graduate-admissions/tasks\n",
    "# correlations\n",
    "# identify essential features\n",
    "\n",
    "from scipy.stats import ks_2samp  \n",
    "\n",
    "def top_corollaries(df, out_col=None):\n",
    "    \"\"\"\n",
    "    # accepts the DataFrame\n",
    "    # compares distribution of data in columns with out_col\n",
    "    # returns dataframe with columns ['col','p_val'] sorted\n",
    "    # by p_val with most important columns on top.\n",
    "    #\n",
    "    # To compare two distributions we will use Kolmogorov-Smirnov test.\n",
    "    #  - https://en.wikipedia.org/wiki/Kolmogorov%E2%80%93Smirnov_test\n",
    "    # Note - this is just one of many tests, for example, read this discussion:\n",
    "    #  - https://stats.stackexchange.com/questions/1001/is-spearmans-correlation-coefficient-usable-to-compare-distributions\n",
    "    # \n",
    "    # function ks_2samp(array1, array2) \n",
    "    # compares distributions of values in two arrays\n",
    "    # and returns p_value\n",
    "    #    p_value > 0.4 - distributions are very similar (identical)\n",
    "    #    p_value very small - distributions differ\n",
    "    \"\"\"\n",
    "    ks = []\n",
    "    cols = sorted(set(list(df.columns)) - set([out_col]))\n",
    "    vals_out = df[out_col].values\n",
    "    for col in cols:\n",
    "        vals_col = df[col].values        \n",
    "        p_val = ks_2samp(vals_out, vals_col)[0]  # higher value for similar distributions\n",
    "        ks.append((col, p_val))\n",
    "        print(\"%s => %.6f\" % (col,p_val))\n",
    "    # pick 10 most correlated variables.\n",
    "    # create DataFrame [label, p_val]\n",
    "    df_ks = pd.DataFrame(data = ks, columns = ['col', 'p_val'])\n",
    "    # sort by p_val in decreasing order\n",
    "    df_ks = df_ks.sort_values(by='p_val',ascending=False)\n",
    "    return df_ks"
   ]
  },
  {
   "cell_type": "code",
   "execution_count": 9,
   "metadata": {},
   "outputs": [
    {
     "name": "stdout",
     "output_type": "stream",
     "text": [
      "small p_values indicate different distributions\n",
      "----------------------------------------\n",
      "label => p_value\n",
      "----------------------------------------\n",
      "CGPA => 1.000000\n",
      "GRE => 1.000000\n",
      "LOR => 1.000000\n",
      "Research => 0.547500\n",
      "SOP => 1.000000\n",
      "SerNo => 1.000000\n",
      "TOEFL => 1.000000\n",
      "UnivRating => 1.000000\n"
     ]
    },
    {
     "data": {
      "text/html": [
       "<div>\n",
       "<style scoped>\n",
       "    .dataframe tbody tr th:only-of-type {\n",
       "        vertical-align: middle;\n",
       "    }\n",
       "\n",
       "    .dataframe tbody tr th {\n",
       "        vertical-align: top;\n",
       "    }\n",
       "\n",
       "    .dataframe thead th {\n",
       "        text-align: right;\n",
       "    }\n",
       "</style>\n",
       "<table border=\"1\" class=\"dataframe\">\n",
       "  <thead>\n",
       "    <tr style=\"text-align: right;\">\n",
       "      <th></th>\n",
       "      <th>col</th>\n",
       "      <th>p_val</th>\n",
       "    </tr>\n",
       "  </thead>\n",
       "  <tbody>\n",
       "    <tr>\n",
       "      <th>0</th>\n",
       "      <td>CGPA</td>\n",
       "      <td>1.0000</td>\n",
       "    </tr>\n",
       "    <tr>\n",
       "      <th>1</th>\n",
       "      <td>GRE</td>\n",
       "      <td>1.0000</td>\n",
       "    </tr>\n",
       "    <tr>\n",
       "      <th>2</th>\n",
       "      <td>LOR</td>\n",
       "      <td>1.0000</td>\n",
       "    </tr>\n",
       "    <tr>\n",
       "      <th>4</th>\n",
       "      <td>SOP</td>\n",
       "      <td>1.0000</td>\n",
       "    </tr>\n",
       "    <tr>\n",
       "      <th>5</th>\n",
       "      <td>SerNo</td>\n",
       "      <td>1.0000</td>\n",
       "    </tr>\n",
       "    <tr>\n",
       "      <th>6</th>\n",
       "      <td>TOEFL</td>\n",
       "      <td>1.0000</td>\n",
       "    </tr>\n",
       "    <tr>\n",
       "      <th>7</th>\n",
       "      <td>UnivRating</td>\n",
       "      <td>1.0000</td>\n",
       "    </tr>\n",
       "    <tr>\n",
       "      <th>3</th>\n",
       "      <td>Research</td>\n",
       "      <td>0.5475</td>\n",
       "    </tr>\n",
       "  </tbody>\n",
       "</table>\n",
       "</div>"
      ],
      "text/plain": [
       "          col   p_val\n",
       "0        CGPA  1.0000\n",
       "1         GRE  1.0000\n",
       "2         LOR  1.0000\n",
       "4         SOP  1.0000\n",
       "5       SerNo  1.0000\n",
       "6       TOEFL  1.0000\n",
       "7  UnivRating  1.0000\n",
       "3    Research  0.5475"
      ]
     },
     "metadata": {},
     "output_type": "display_data"
    }
   ],
   "source": [
    "# function ks_2samp(array1, array2) \n",
    "# compares distributions of values in two arrays\n",
    "# and returns p_value\n",
    "#    p_value > 0.4 - distributions are very similar (identical)\n",
    "#    p_value very small - distributions differ\n",
    "\n",
    "print(\"small p_values indicate different distributions\")\n",
    "print('-'*40)\n",
    "print(\"label => p_value\") \n",
    "print('-'*40)\n",
    "\n",
    "df_ks = top_corollaries(df, out_col='ChanceAdmit')\n",
    "display(df_ks.head(20))"
   ]
  },
  {
   "cell_type": "code",
   "execution_count": 10,
   "metadata": {},
   "outputs": [],
   "source": [
    "# ANOVA\n",
    "# https://www.marsja.se/four-ways-to-conduct-one-way-anovas-using-python/\n",
    "import statsmodels\n",
    "import statsmodels.api as sm\n",
    "from statsmodels.formula.api import ols"
   ]
  },
  {
   "cell_type": "code",
   "execution_count": 11,
   "metadata": {},
   "outputs": [],
   "source": [
    "# 'GRE', 'TOEFL', 'UnivRating', 'SOP', 'LOR', 'CGPA', 'Research', 'ChanceAdmit'\n",
    "mod = ols('CGPA ~ ChanceAdmit', data=df).fit()"
   ]
  },
  {
   "cell_type": "code",
   "execution_count": 12,
   "metadata": {},
   "outputs": [],
   "source": [
    "aov_table = sm.stats.anova_lm(mod, typ=2)"
   ]
  },
  {
   "cell_type": "code",
   "execution_count": 13,
   "metadata": {},
   "outputs": [
    {
     "name": "stdout",
     "output_type": "stream",
     "text": [
      "                 sum_sq     df            F         PR(>F)\n",
      "ChanceAdmit  108.204045    1.0  1278.734453  2.336514e-126\n",
      "Residual      33.677993  398.0          NaN            NaN\n"
     ]
    }
   ],
   "source": [
    "print(aov_table)\n",
    "# for single model\n",
    "#   sum_sq : Sum of squares\n",
    "#   df     : Degrees of freedom\n",
    "#   F      : F statistic value for significance of adding model terms.\n",
    "#   PR(>F) : P-value for significance of adding model terms."
   ]
  },
  {
   "cell_type": "code",
   "execution_count": 15,
   "metadata": {},
   "outputs": [],
   "source": [
    "# sm.stats.anova_lm?"
   ]
  },
  {
   "cell_type": "raw",
   "metadata": {},
   "source": [
    "Returns\n",
    "-------\n",
    "anova : DataFrame\n",
    "    When args is a single model, return is DataFrame with columns:\n",
    "\n",
    "    sum_sq : float64\n",
    "        Sum of squares for model terms.\n",
    "    df : float64\n",
    "        Degrees of freedom for model terms.\n",
    "    F : float64\n",
    "        F statistic value for significance of adding model terms.\n",
    "    PR(>F) : float64\n",
    "        P-value for significance of adding model terms.\n",
    "\n",
    "    When args is multiple models, return is DataFrame with columns:\n",
    "\n",
    "    df_resid : float64\n",
    "        Degrees of freedom of residuals in models.\n",
    "    ssr : float64\n",
    "        Sum of squares of residuals in models.\n",
    "    df_diff : float64\n",
    "        Degrees of freedom difference from previous model in args\n",
    "    ss_dff : float64\n",
    "        Difference in ssr from previous model in args\n",
    "    F : float64\n",
    "        F statistic comparing to previous model in args\n",
    "    PR(>F): float64\n",
    "        P-value for significance comparing to previous model in args"
   ]
  },
  {
   "cell_type": "code",
   "execution_count": null,
   "metadata": {},
   "outputs": [],
   "source": []
  }
 ],
 "metadata": {
  "interpreter": {
   "hash": "110003d2facbeb6cc9d67577e4e2e56c25710998e50da017635eb2d11291f54f"
  },
  "kernelspec": {
   "display_name": "Python 3 (ipykernel)",
   "language": "python",
   "name": "python3"
  },
  "language_info": {
   "codemirror_mode": {
    "name": "ipython",
    "version": 3
   },
   "file_extension": ".py",
   "mimetype": "text/x-python",
   "name": "python",
   "nbconvert_exporter": "python",
   "pygments_lexer": "ipython3",
   "version": "3.9.12"
  }
 },
 "nbformat": 4,
 "nbformat_minor": 4
}
