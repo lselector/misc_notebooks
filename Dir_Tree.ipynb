{
 "cells": [
  {
   "cell_type": "markdown",
   "metadata": {},
   "source": [
    "## Traversing Directory Tree in Python"
   ]
  },
  {
   "cell_type": "code",
   "execution_count": 1,
   "metadata": {},
   "outputs": [],
   "source": [
    "import os, sys, shutil"
   ]
  },
  {
   "cell_type": "code",
   "execution_count": 2,
   "metadata": {},
   "outputs": [],
   "source": [
    "# let's create a simple directory tree\n",
    "\n",
    "# parent_dir = os.path.expanduser(\"~\")\n",
    "parent_dir = \"/tmp\"\n",
    "topdir = parent_dir + \"/tt1\"\n",
    "if os.path.exists(topdir):\n",
    "    shutil.rmtree(topdir)\n",
    "os.makedirs(topdir)"
   ]
  },
  {
   "cell_type": "code",
   "execution_count": 3,
   "metadata": {},
   "outputs": [],
   "source": [
    "mypaths = [\n",
    "    topdir + \"/lev1_a.txt\",\n",
    "    topdir + \"/lev1_c.txt\",\n",
    "    topdir + \"/lev1_b/a.txt\",\n",
    "    topdir + \"/lev1_b/c.txt\",\n",
    "    topdir + \"/lev1_b/lev2_b/a.txt\",\n",
    "    topdir + \"/lev1_b/lev2_b/c.txt\"\n",
    "]"
   ]
  },
  {
   "cell_type": "code",
   "execution_count": 4,
   "metadata": {},
   "outputs": [
    {
     "name": "stdout",
     "output_type": "stream",
     "text": [
      "/tmp/tt1 lev1_a.txt\n",
      "/tmp/tt1 lev1_c.txt\n",
      "/tmp/tt1/lev1_b a.txt\n",
      "/tmp/tt1/lev1_b c.txt\n",
      "/tmp/tt1/lev1_b/lev2_b a.txt\n",
      "/tmp/tt1/lev1_b/lev2_b c.txt\n"
     ]
    }
   ],
   "source": [
    "def touch(path):\n",
    "    with open(path, 'a'):\n",
    "        os.utime(path, None)\n",
    "\n",
    "for mypath in mypaths:\n",
    "    fname = os.path.basename(mypath)\n",
    "    dname = os.path.dirname (mypath)\n",
    "    print(dname,fname)\n",
    "    if not os.path.exists(dname):\n",
    "        os.makedirs(dname)\n",
    "    if not os.path.exists(mypath):\n",
    "        touch(mypath)"
   ]
  },
  {
   "cell_type": "code",
   "execution_count": 5,
   "metadata": {},
   "outputs": [
    {
     "name": "stdout",
     "output_type": "stream",
     "text": [
      "dirpath  = /tmp/tt1\n",
      "dirnames = ['lev1_b']\n",
      "filenames= ['lev1_a.txt', 'lev1_c.txt']\n",
      "    \n",
      "dirpath  = /tmp/tt1/lev1_b\n",
      "dirnames = ['lev2_b']\n",
      "filenames= ['c.txt', 'a.txt']\n",
      "    \n",
      "dirpath  = /tmp/tt1/lev1_b/lev2_b\n",
      "dirnames = []\n",
      "filenames= ['c.txt', 'a.txt']\n",
      "    \n"
     ]
    }
   ],
   "source": [
    "# we can use os.walk(topdir)\n",
    "for (dirpath, dirnames, filenames) in os.walk(topdir):\n",
    "    print(\"dirpath  =\",dirpath)\n",
    "    print(\"dirnames =\",dirnames)\n",
    "    print(\"filenames=\",filenames)\n",
    "    print(\"    \")"
   ]
  },
  {
   "cell_type": "code",
   "execution_count": 6,
   "metadata": {},
   "outputs": [
    {
     "name": "stdout",
     "output_type": "stream",
     "text": [
      "/tmp/tt1\n",
      "/tmp/tt1/lev1_a.txt - 0 bytes\n",
      "/tmp/tt1/lev1_c.txt - 0 bytes\n",
      "/tmp/tt1/lev1_b\n",
      "/tmp/tt1/lev1_b/c.txt - 0 bytes\n",
      "/tmp/tt1/lev1_b/a.txt - 0 bytes\n",
      "/tmp/tt1/lev1_b/lev2_b\n",
      "/tmp/tt1/lev1_b/lev2_b/c.txt - 0 bytes\n",
      "/tmp/tt1/lev1_b/lev2_b/a.txt - 0 bytes\n"
     ]
    }
   ],
   "source": [
    "# let's try recursive approach\n",
    "\n",
    "def recurse_dir(mypath):\n",
    "    \"\"\"\n",
    "    # modified from https://www.devdungeon.com/content/walk-directory-python\n",
    "    \"\"\"\n",
    "    apath = os.path.abspath(mypath)\n",
    "    # if file - simply print its size\n",
    "    if os.path.isfile(apath):\n",
    "        print(f\"{apath} - {os.stat(apath).st_size} bytes\")\n",
    "    elif os.path.isdir(apath):\n",
    "        print(apath)\n",
    "        dir_listing = os.listdir(apath)\n",
    "        for item in dir_listing:\n",
    "            item_full_path = os.path.join(apath, item)\n",
    "            recurse_dir(item_full_path)\n",
    "\n",
    "recurse_dir(topdir)"
   ]
  },
  {
   "cell_type": "code",
   "execution_count": 7,
   "metadata": {},
   "outputs": [],
   "source": [
    "# Yet another way is to use shutil module\n",
    "#\n",
    "#     https://docs.python.org/3/library/shutil.html\n",
    "#\n",
    "# For example:\n",
    "#    shutil.copytree(src, dst, ...)"
   ]
  },
  {
   "cell_type": "code",
   "execution_count": null,
   "metadata": {},
   "outputs": [],
   "source": []
  }
 ],
 "metadata": {
  "kernelspec": {
   "display_name": "Python 3 (ipykernel)",
   "language": "python",
   "name": "python3"
  },
  "language_info": {
   "codemirror_mode": {
    "name": "ipython",
    "version": 3
   },
   "file_extension": ".py",
   "mimetype": "text/x-python",
   "name": "python",
   "nbconvert_exporter": "python",
   "pygments_lexer": "ipython3",
   "version": "3.9.12"
  }
 },
 "nbformat": 4,
 "nbformat_minor": 4
}
