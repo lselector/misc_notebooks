{
 "cells": [
  {
   "cell_type": "markdown",
   "metadata": {},
   "source": [
    "### It is easy to download videos from YouTube\n",
    "\n",
    "Using module __pytube__ - https://pypi.org/project/pytube/ \n",
    "\n",
    "See docs here: - https://python-pytube.readthedocs.io/en/latest/ "
   ]
  },
  {
   "cell_type": "code",
   "execution_count": null,
   "metadata": {
    "ExecuteTime": {
     "end_time": "2021-08-06T01:55:46.794768Z",
     "start_time": "2021-08-06T01:55:46.783327Z"
    }
   },
   "outputs": [],
   "source": [
    "# !pip install pytube\n",
    "from pytube import YouTube"
   ]
  },
  {
   "cell_type": "code",
   "execution_count": null,
   "metadata": {
    "ExecuteTime": {
     "end_time": "2021-08-06T02:01:39.420476Z",
     "start_time": "2021-08-06T02:01:39.416819Z"
    }
   },
   "outputs": [],
   "source": [
    "# Let's download first four minutes of Spies in Disguise \n",
    "# url = \"www.youtube.com/watch?v=vwwM3MixzMQ\" # Spies in Disguise \n",
    "# url = \"https://www.youtube.com/watch?v=LX-S1CX1HUI\" # how to use GIMP\n",
    "# url = \"https://www.youtube.com/watch?v=rLWXlc1BW-I\" # OpenShot tutorial\n",
    "# url = \"https://www.youtube.com/watch?v=x1g4Hhx_mK0\" # Firebolt POC\n",
    "url = \"https://www.youtube.com/watch?v=lgSl7D_vtEE\"  \n",
    "yt = YouTube(url)"
   ]
  },
  {
   "cell_type": "code",
   "execution_count": null,
   "metadata": {
    "ExecuteTime": {
     "end_time": "2021-08-06T02:01:41.351834Z",
     "start_time": "2021-08-06T02:01:40.313398Z"
    }
   },
   "outputs": [],
   "source": [
    "# Lets get a list of all available streams\n",
    "# (different video quality) \n",
    "for idx, stream in enumerate(yt.streams):\n",
    "    print(f\"{idx} - {str(stream)}\")"
   ]
  },
  {
   "cell_type": "code",
   "execution_count": null,
   "metadata": {
    "ExecuteTime": {
     "end_time": "2021-08-06T02:02:04.630105Z",
     "start_time": "2021-08-06T02:02:01.342530Z"
    }
   },
   "outputs": [],
   "source": [
    "# Enter the stream number which we want:\n",
    "idx = 1\n",
    "stream = yt.streams[idx]\n",
    "print(\"Downloading ...\")\n",
    "#  output_file = stream.download(\n",
    "#                 output_path=\"/some/path\", \n",
    "#                 filename=\"mytest.mp4\")\n",
    "output_file = stream.download() # downloads orig. name in current working directory\n",
    "print(output_file)\n",
    "print(\"Done\")"
   ]
  },
  {
   "cell_type": "code",
   "execution_count": null,
   "metadata": {
    "ExecuteTime": {
     "end_time": "2021-08-06T01:56:45.804573Z",
     "start_time": "2021-08-06T01:56:43.918592Z"
    }
   },
   "outputs": [],
   "source": [
    "# Alternatively you can do this:\n",
    "#     https://python-pytube.readthedocs.io/en/latest/\n",
    "\n",
    "url = 'https://youtu.be/9bZkp7q19f0'\n",
    "\n",
    "YouTube(url).streams.first().download()"
   ]
  },
  {
   "cell_type": "code",
   "execution_count": null,
   "metadata": {
    "ExecuteTime": {
     "end_time": "2021-08-06T01:57:23.747896Z",
     "start_time": "2021-08-06T01:57:18.172435Z"
    }
   },
   "outputs": [],
   "source": [
    "# or you can automate stream selection\n",
    "# by chaining the criteria\n",
    "\n",
    "yt = YouTube(url)\n",
    "(yt.streams\n",
    "    . filter(progressive=True, file_extension='mp4')\n",
    "    . order_by('resolution')\n",
    "    . desc()\n",
    "    . first()\n",
    "    . download())"
   ]
  },
  {
   "cell_type": "code",
   "execution_count": null,
   "metadata": {
    "ExecuteTime": {
     "end_time": "2021-08-06T01:58:37.968240Z",
     "start_time": "2021-08-06T01:58:37.441079Z"
    }
   },
   "outputs": [],
   "source": [
    "!/bin/ls -a1F PSY*"
   ]
  },
  {
   "cell_type": "code",
   "execution_count": null,
   "metadata": {},
   "outputs": [],
   "source": []
  }
 ],
 "metadata": {
  "interpreter": {
   "hash": "89959021e7c69c791d28ac7b3284c38667caecfabe89c84f58347c92523c84df"
  },
  "kernelspec": {
   "display_name": "Python 3 (ipykernel)",
   "language": "python",
   "name": "python3"
  },
  "language_info": {
   "codemirror_mode": {
    "name": "ipython",
    "version": 3
   },
   "file_extension": ".py",
   "mimetype": "text/x-python",
   "name": "python",
   "nbconvert_exporter": "python",
   "pygments_lexer": "ipython3",
   "version": "3.11.5"
  }
 },
 "nbformat": 4,
 "nbformat_minor": 4
}
