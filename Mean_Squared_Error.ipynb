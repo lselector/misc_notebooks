{
 "cells": [
  {
   "cell_type": "markdown",
   "id": "599b42d7",
   "metadata": {},
   "source": [
    "### Mean Squared Error and RMSE\n",
    "\n",
    "exploring https://scikit-learn.org/stable/modules/generated/sklearn.metrics.mean_squared_error.html"
   ]
  },
  {
   "cell_type": "code",
   "execution_count": 1,
   "id": "48903cd5",
   "metadata": {},
   "outputs": [],
   "source": [
    "import os, sys, math\n",
    "import pandas as pd\n",
    "import numpy as np\n",
    "import sklearn\n",
    "from sklearn.metrics import mean_squared_error"
   ]
  },
  {
   "cell_type": "code",
   "execution_count": 2,
   "id": "ab96efe2",
   "metadata": {},
   "outputs": [
    {
     "name": "stdout",
     "output_type": "stream",
     "text": [
      "python: 3.9.12\n",
      "pandas: 1.4.3\n",
      "numpy: 1.23.1\n",
      "sklearn: 1.1.1\n"
     ]
    }
   ],
   "source": [
    "print(\"python:\",sys.version.split()[0])\n",
    "print(\"pandas:\",pd.__version__)\n",
    "print(\"numpy:\",np.__version__)\n",
    "print(\"sklearn:\",sklearn.__version__)"
   ]
  },
  {
   "cell_type": "code",
   "execution_count": 3,
   "id": "84e4bf3c",
   "metadata": {},
   "outputs": [
    {
     "name": "stdout",
     "output_type": "stream",
     "text": [
      "0.61237\n"
     ]
    }
   ],
   "source": [
    "# RMSE (Root-Square from Mean Squared Error)\n",
    "y_true = [3, -0.5, 2, 7]\n",
    "y_pred = [2.5, 0.0, 2, 8]\n",
    "rmse = mean_squared_error(y_true, y_pred, squared=False)\n",
    "print(f\"{rmse:.5f}\") # 0.61237"
   ]
  },
  {
   "cell_type": "code",
   "execution_count": 4,
   "id": "a8f8cfd8",
   "metadata": {
    "scrolled": true
   },
   "outputs": [
    {
     "name": "stdout",
     "output_type": "stream",
     "text": [
      "0.61237\n"
     ]
    }
   ],
   "source": [
    "# RMSE - explicit \"manual\" calculation - will get same result\n",
    "N = len(y_true)\n",
    "mse2 = 0\n",
    "for ii in range(N):\n",
    "    diff = y_true[ii]-y_pred[ii]  # difference\n",
    "    mse2 += diff*diff             # sum of squares\n",
    "mse2 = mse2/N                     # divide by number of points\n",
    "mse2 = math.sqrt(mse2)            # square root from the sum\n",
    "print(f\"{mse2:.5f}\") # 0.61237"
   ]
  },
  {
   "cell_type": "code",
   "execution_count": null,
   "id": "1adaffd1",
   "metadata": {},
   "outputs": [],
   "source": []
  }
 ],
 "metadata": {
  "kernelspec": {
   "display_name": "Python 3 (ipykernel)",
   "language": "python",
   "name": "python3"
  },
  "language_info": {
   "codemirror_mode": {
    "name": "ipython",
    "version": 3
   },
   "file_extension": ".py",
   "mimetype": "text/x-python",
   "name": "python",
   "nbconvert_exporter": "python",
   "pygments_lexer": "ipython3",
   "version": "3.9.12"
  }
 },
 "nbformat": 4,
 "nbformat_minor": 5
}
