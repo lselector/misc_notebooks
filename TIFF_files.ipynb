{
 "cells": [
  {
   "cell_type": "markdown",
   "source": [
    "### TIFF files\n",
    "\n",
    "https://pypi.org/project/tifffile/\n",
    "\n",
    "```\n",
    "pip install -U tifffile           # latest\n",
    "pip install tifffile==2021.3.31   # specific\n",
    "```\n"
   ],
   "metadata": {}
  },
  {
   "cell_type": "code",
   "execution_count": null,
   "source": [
    "import os, sys, time\n",
    "import numpy as np\n",
    "\n",
    "import tifffile"
   ],
   "outputs": [],
   "metadata": {}
  },
  {
   "cell_type": "code",
   "execution_count": null,
   "source": [
    "data0 = np.random.randint(0,  255, (32,  32,   3), 'uint8' )\n",
    "data1 = np.random.randint(0, 1023, ( 4, 256, 256), 'uint16')\n",
    "\n",
    "fname = 'myfile.tif'\n",
    "\n",
    "with tifffile.TiffWriter(fname) as tif:\n",
    "    tif.save(data0, compress=6, photometric='rgb')\n",
    "    tif.save(data1,\n",
    "        photometric='minisblack',\n",
    "        metadata={\n",
    "            'axes': 'ZYX',\n",
    "            'SignificantBits': 10,\n",
    "            'Plane': {'PositionZ': [0.0, 1.0, 2.0, 3.0]}\n",
    "        }\n",
    "    )"
   ],
   "outputs": [],
   "metadata": {}
  },
  {
   "cell_type": "code",
   "execution_count": null,
   "source": [
    "!ls -ltr {fname}"
   ],
   "outputs": [],
   "metadata": {}
  },
  {
   "cell_type": "code",
   "execution_count": null,
   "source": [],
   "outputs": [],
   "metadata": {}
  }
 ],
 "metadata": {
  "kernelspec": {
   "name": "python3",
   "display_name": "Python 3.8.8 64-bit ('base': conda)"
  },
  "language_info": {
   "codemirror_mode": {
    "name": "ipython",
    "version": 3
   },
   "file_extension": ".py",
   "mimetype": "text/x-python",
   "name": "python",
   "nbconvert_exporter": "python",
   "pygments_lexer": "ipython3",
   "version": "3.8.8"
  },
  "interpreter": {
   "hash": "110003d2facbeb6cc9d67577e4e2e56c25710998e50da017635eb2d11291f54f"
  }
 },
 "nbformat": 4,
 "nbformat_minor": 4
}