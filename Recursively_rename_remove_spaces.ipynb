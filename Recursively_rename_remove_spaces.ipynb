{
 "cells": [
  {
   "cell_type": "markdown",
   "metadata": {},
   "source": [
    "## Recursively remove spaces from file names\n",
    "\n",
    "When you use this common command:\n",
    "\n",
    "``` find ./ ...    | xargs grep  ... ```\n",
    "\n",
    "it will break on names consisting of several words separated by spaces,\n",
    "<br>because it will try to treat each word as a separate file name. \n",
    "\n",
    "You can go around this problem using options \n",
    "<br>to use ASCII NUL character instead of space \n",
    "<br>to end (separate) the filenames\n",
    "```\n",
    "  -print0 option in find,\n",
    "  -0      option in xargs\n",
    "```\n",
    "for example:\n",
    "\n",
    "``` find ./ -type f -print0 | xargs -0 ls -1 ```\n",
    "\n",
    "Or you can simply run the code below\n",
    "<br>which will rename directories and files\n",
    "<br>by substituting spaces, quotes, etc.\n",
    "<br>by underscores"
   ]
  },
  {
   "cell_type": "code",
   "execution_count": null,
   "metadata": {},
   "outputs": [],
   "source": [
    "import sys, os, glob, subprocess, time, datetime"
   ]
  },
  {
   "cell_type": "code",
   "execution_count": null,
   "metadata": {},
   "outputs": [],
   "source": [
    "# provide absolute path under which \n",
    "# you want to clean out spaces from names\n",
    "# MYDIR = \"/some/path\"\n",
    "# ----------------------------------\n",
    "HOME = os.environ['HOME']\n",
    "MYDIR = HOME + \"/\"\n",
    "print(MYDIR)\n",
    "print(\"-\"*50)\n",
    "if not os.path.isdir(MYDIR):\n",
    "    print(\"ERROR - no such directory\")\n",
    "# ----------------------------------\n",
    "skip_list = [\n",
    "    \"Applications\",\n",
    "    \"Applications (Parallels)\",\n",
    "    \"Parallels\",\n",
    "    \"Public\",\n",
    "    \"VicsLogoMatcher\",\n",
    "    \"brett_env\",\n",
    "    \"gowork\",\n",
    "    \"proj1_env\",\n",
    "    \"test\",\n",
    "    \"test2\",\n",
    "    \"Google Drive\",\n",
    "    \"Library\",\n",
    "    \"Music/Music\",\n",
    "    \"Pictures\",\n",
    "    \"Movies\",\n",
    "    \"Documents\",\n",
    "    \"Calibre Library\",\n",
    "    \"docs_big/SOFT_big\",\n",
    "    \"docs/mySOFT_sn\",\n",
    "    \"anaconda3\"\n",
    "]\n",
    "\n",
    "for mydir in skip_list: \n",
    "    print(mydir)\n",
    "# ----------------------------------\n",
    "def print_date_time():\n",
    "    print(datetime.datetime.now().strftime(\"%Y-%m-%d %H:%M:%S\"))\n",
    "# ----------------------------------\n",
    "time1 = time.time()\n",
    "# ----------------------------------"
   ]
  },
  {
   "cell_type": "code",
   "execution_count": null,
   "metadata": {},
   "outputs": [],
   "source": [
    "def myrun(cmd):\n",
    "    \"\"\" simple function to run shell command and return a string \"\"\"\n",
    "    try:\n",
    "        txt = subprocess.check_output(cmd, shell=True, stderr=subprocess.STDOUT)\n",
    "    except Exception as e:\n",
    "        txt = e.output\n",
    "    txt = txt.decode().strip()\n",
    "    return txt"
   ]
  },
  {
   "cell_type": "markdown",
   "metadata": {},
   "source": [
    "#### Clean directories' names layer by layer.\n",
    "#### Repeat next cell several times until there is no output."
   ]
  },
  {
   "cell_type": "code",
   "execution_count": null,
   "metadata": {},
   "outputs": [],
   "source": [
    "os.chdir(MYDIR)\n",
    "mydir = os.getcwd()\n",
    "print(mydir)\n",
    "print(\"getting list of all directories\")\n",
    "out_str = myrun(\"/usr/local/bin/fd -t d\")\n",
    "print(len(out_str))\n",
    "print(\"-\"*50)\n",
    "out_list = out_str.split(\"\\n\")\n",
    "print(len(out_list))\n",
    "\n",
    "for ii in range(10):\n",
    "    print(out_list[ii])\n",
    "print(\"-\"*50)\n",
    "\n",
    "# double check that they are directories\n",
    "dirs1 = []\n",
    "for ff in out_list:\n",
    "    if not os.path.isdir(ff):\n",
    "        continue\n",
    "    dirs1 += [ff]\n",
    "print(len(dirs1))\n",
    "print(\"-\"*50)\n",
    "print(\"remove directories which are in skip list\")\n",
    "dirs = []\n",
    "for dd in dirs1:\n",
    "    flag = False\n",
    "    for skip_dir in skip_list:\n",
    "        if skip_dir in dd:\n",
    "            flag=True\n",
    "            break\n",
    "    if flag == True:\n",
    "        continue\n",
    "    dirs += [dd]\n",
    "print(len(dirs))\n",
    "print(\"-\"*50)\n",
    "print(\"rename directories (spaces and quotes to underscores)\")\n",
    "N = len(dirs)\n",
    "print(f\"found {N:,d} dirs\")\n",
    "counter = 0\n",
    "for mydir in dirs:\n",
    "    if (\" \" not in mydir) and (\"'\" not in mydir):\n",
    "        continue\n",
    "    mydir2 = mydir.replace(\" \",\"_\").replace(\"'\",\"_\")\n",
    "    print(f\"renaming: {mydir} => {mydir2}\")\n",
    "    os.rename(mydir, mydir2)\n",
    "    counter += 1\n",
    "if counter >= 1:\n",
    "    print(f\"renamed {counter} directories, run again !\")\n",
    "else:\n",
    "    print(f\"no directories to rename, good\")\n",
    "print(\"DONE\")"
   ]
  },
  {
   "cell_type": "markdown",
   "metadata": {},
   "source": [
    "#### Next we can rename files to remove spaces, quotes, double quotes, \"&\"."
   ]
  },
  {
   "cell_type": "code",
   "execution_count": null,
   "metadata": {},
   "outputs": [],
   "source": [
    "# ----------------------------------\n",
    "def rename_if_needed(myfile):\n",
    "    myfile2 = myfile[:]\n",
    "    if \" \" in myfile:\n",
    "        myfile2 = myfile2.replace(\" \",\"_\")\n",
    "    if \"'\" in myfile:\n",
    "        myfile2 = myfile2.replace(\"'\",\"_\")\n",
    "    if '\"' in myfile:\n",
    "        myfile2 = myfile2.replace('\"',\"_\")\n",
    "    if '&' in myfile:\n",
    "        myfile2 = myfile2.replace('&',\"_\")      \n",
    "    if myfile2 != myfile:\n",
    "        print(f\"renaming: {myfile} => {myfile2}\")\n",
    "        os.rename(myfile, myfile2) \n",
    "\n",
    "# ----------------------------------\n",
    "def in_skip_list(myfile):\n",
    "    skip_flag = False\n",
    "    for elem in skip_list:\n",
    "        if elem in myfile:\n",
    "            skip_flag = True\n",
    "    return skip_flag"
   ]
  },
  {
   "cell_type": "markdown",
   "metadata": {},
   "source": [
    "#### Run the next cell twice until there is no output"
   ]
  },
  {
   "cell_type": "code",
   "execution_count": null,
   "metadata": {},
   "outputs": [],
   "source": [
    "%%time\n",
    "print_date_time()\n",
    "print(f\"Getting list of files under {MYDIR} - takes some time\")\n",
    "# -------------------------------\n",
    "os.chdir(MYDIR)\n",
    "files1 = myrun(\"/usr/local/bin/fd -t f\").split(\"\\n\")\n",
    "print_date_time()\n",
    "print(f\"removing 'skip_list' and renaming as needed\")\n",
    "files = []\n",
    "for ff in files1:\n",
    "    if in_skip_list(ff):\n",
    "        continue\n",
    "    to_rename = False\n",
    "    if (\" \" in ff) or (\"'\" in ff) or ('\"' in ff) or ('&' in ff):\n",
    "        files += [ff]\n",
    "        rename_if_needed(ff)\n",
    "# -------------------------------\n",
    "Nfiles = len(files)\n",
    "print(Nfiles)\n",
    "print(\"-\"*20)\n",
    "if Nfiles <= 0:\n",
    "    print(\"Nothing to rename\")\n",
    "else:\n",
    "    for ii in range(min(10,Nfiles)):\n",
    "        print(files[ii])    "
   ]
  },
  {
   "cell_type": "code",
   "execution_count": null,
   "metadata": {},
   "outputs": [],
   "source": [
    "time2 = time.time()\n",
    "elapsed = time2-time1\n",
    "print(f\"Elapsed seconds = {elapsed:.3f}\")"
   ]
  },
  {
   "cell_type": "code",
   "execution_count": null,
   "metadata": {},
   "outputs": [],
   "source": []
  }
 ],
 "metadata": {
  "kernelspec": {
   "display_name": "Python 3 (ipykernel)",
   "language": "python",
   "name": "python3"
  },
  "language_info": {
   "codemirror_mode": {
    "name": "ipython",
    "version": 3
   },
   "file_extension": ".py",
   "mimetype": "text/x-python",
   "name": "python",
   "nbconvert_exporter": "python",
   "pygments_lexer": "ipython3",
   "version": "3.9.7"
  }
 },
 "nbformat": 4,
 "nbformat_minor": 4
}
