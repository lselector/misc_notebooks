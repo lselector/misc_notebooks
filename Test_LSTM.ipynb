{
 "cells": [
  {
   "cell_type": "markdown",
   "metadata": {},
   "source": [
    "## Recurrent Neural Networks (LSTM / RNN) \n",
    "Implementation with Keras - Python\n",
    "```\n",
    "From this youtube video:\n",
    " - https://www.youtube.com/watch?v=iMIWee_PXl8\n",
    "Also his GitHub page:\n",
    " - https://github.com/shreyans29/thesemicolon\n",
    "```"
   ]
  },
  {
   "cell_type": "code",
   "execution_count": null,
   "metadata": {},
   "outputs": [],
   "source": [
    "import pandas as pd\n",
    "import numpy as np\n",
    "# conda install -c anaconda keras\n",
    "from keras.models import Sequential\n",
    "from keras.layers import Dense\n",
    "from keras.layers import LSTM\n",
    "from sklearn.model_selection import train_test_split\n",
    "import numpy as np\n",
    "import matplotlib.pyplot as plt\n",
    "from util_jupyter import *\n",
    "print_date_time(\"DONE\")"
   ]
  },
  {
   "cell_type": "code",
   "execution_count": null,
   "metadata": {},
   "outputs": [],
   "source": [
    "# Data Preparation\n",
    "\n",
    "# Data - array of 100 5-element sequences of sequential numbers\n",
    "Data = [[[(i+j)/100.0] for i in range(5)] for j in range(100)]\n",
    "\n",
    "# target - array of 100 1-element values\n",
    "target = [(j+5)/100.0 for j in range(100)]\n",
    "\n",
    "data   = np.array(Data,   dtype=float)\n",
    "target = np.array(target, dtype=float)\n",
    "\n",
    "print(\"data.shape =\",data.shape)\n",
    "print(\"target.shape =\",target.shape)\n",
    "\n",
    "x_train, x_test, y_train, y_test = \\\n",
    "    train_test_split(data, target, test_size=0.2, random_state=4)\n",
    "# ---------------------------------\n",
    "print_date_time(\"DONE\")"
   ]
  },
  {
   "cell_type": "code",
   "execution_count": null,
   "metadata": {},
   "outputs": [],
   "source": [
    "#RNN Model\n",
    "model = Sequential() \n",
    "model.add(LSTM(1, batch_input_shape=(None,5,1),return_sequences=True))\n",
    "model.add(LSTM((1), return_sequences=False))\n",
    "model.compile(loss='mean_absolute_error', optimizer='adam', metrics=['accuracy'])\n",
    "model.summary()\n",
    "print_date_time(\"DONE\")"
   ]
  },
  {
   "cell_type": "code",
   "execution_count": null,
   "metadata": {},
   "outputs": [],
   "source": [
    "history = model.fit(x_train, y_train, epochs=500, validation_data=(x_test,y_test))\n",
    "print_date_time(\"DONE\")"
   ]
  },
  {
   "cell_type": "code",
   "execution_count": null,
   "metadata": {},
   "outputs": [],
   "source": [
    "results = model.predict(x_test)"
   ]
  },
  {
   "cell_type": "code",
   "execution_count": null,
   "metadata": {},
   "outputs": [],
   "source": [
    "plt.rcParams[\"figure.figsize\"] = (12, 4) # (width, height)\n",
    "\n",
    "fig,(ax1,ax2) = plt.subplots(1,2) # \n",
    "_ = ax1.scatter(range(20), results, c='red');\n",
    "_ = ax1.scatter(range(20), y_test , c='green');\n",
    "_ = ax1.set_title(\"model (red) vs actual (green)\")\n",
    "\n",
    "_ = ax2.plot(history.history['loss'])\n",
    "_ = ax2.set_title(\"loss vs time\")\n",
    "plt.show();"
   ]
  },
  {
   "cell_type": "code",
   "execution_count": null,
   "metadata": {},
   "outputs": [],
   "source": []
  }
 ],
 "metadata": {
  "kernel_info": {
   "name": "python3"
  },
  "kernelspec": {
   "display_name": "Python 3",
   "language": "python",
   "name": "python3"
  },
  "language_info": {
   "codemirror_mode": {
    "name": "ipython",
    "version": 3
   },
   "file_extension": ".py",
   "mimetype": "text/x-python",
   "name": "python",
   "nbconvert_exporter": "python",
   "pygments_lexer": "ipython3",
   "version": "3.7.3"
  },
  "nteract": {
   "version": "0.12.3"
  }
 },
 "nbformat": 4,
 "nbformat_minor": 4
}
