{
 "cells": [
  {
   "cell_type": "markdown",
   "metadata": {},
   "source": [
    "### Speech to Text Transcribe\n",
    "\n",
    "- https://realpython.com/python-speech-recognition/\n",
    "- https://stackoverflow.com/questions/52249985/python-speech-recognition-tool-does-not-recognize-wav-file\n",
    "\n",
    "```\n",
    "pip install speech_recognition\n",
    "```\n",
    "\n",
    "Note: as input you will need PCM WAV files with integer format. There are multiple converters. I used \"Adobe Audition\" audio editor - and did \"Save As\" into the PCM WAV with integer format."
   ]
  },
  {
   "cell_type": "code",
   "execution_count": 3,
   "metadata": {},
   "outputs": [
    {
     "ename": "ModuleNotFoundError",
     "evalue": "No module named 'speech_recognition'",
     "output_type": "error",
     "traceback": [
      "\u001b[0;31m---------------------------------------------------------------------------\u001b[0m",
      "\u001b[0;31mModuleNotFoundError\u001b[0m                       Traceback (most recent call last)",
      "Input \u001b[0;32mIn [3]\u001b[0m, in \u001b[0;36m<cell line: 2>\u001b[0;34m()\u001b[0m\n\u001b[1;32m      1\u001b[0m \u001b[38;5;28;01mimport\u001b[39;00m \u001b[38;5;21;01mos\u001b[39;00m\u001b[38;5;241m,\u001b[39m \u001b[38;5;21;01msys\u001b[39;00m\u001b[38;5;241m,\u001b[39m \u001b[38;5;21;01mtime\u001b[39;00m\n\u001b[0;32m----> 2\u001b[0m \u001b[38;5;28;01mimport\u001b[39;00m \u001b[38;5;21;01mspeech_recognition\u001b[39;00m \u001b[38;5;28;01mas\u001b[39;00m \u001b[38;5;21;01msr\u001b[39;00m\n\u001b[1;32m      3\u001b[0m sr\u001b[38;5;241m.\u001b[39m__version__\n",
      "\u001b[0;31mModuleNotFoundError\u001b[0m: No module named 'speech_recognition'"
     ]
    }
   ],
   "source": [
    "import os, sys, time\n",
    "import speech_recognition as sr\n",
    "sr.__version__"
   ]
  },
  {
   "cell_type": "code",
   "execution_count": 2,
   "metadata": {},
   "outputs": [
    {
     "name": "stdout",
     "output_type": "stream",
     "text": [
      "/Users/levselector/Downloads/\n"
     ]
    }
   ],
   "source": [
    "mydir = os.getenv(\"HOME\")+\"/Downloads/\"\n",
    "print(mydir)"
   ]
  },
  {
   "cell_type": "code",
   "execution_count": 1,
   "metadata": {},
   "outputs": [
    {
     "ename": "NameError",
     "evalue": "name 'mydir' is not defined",
     "output_type": "error",
     "traceback": [
      "\u001b[0;31m---------------------------------------------------------------------------\u001b[0m",
      "\u001b[0;31mNameError\u001b[0m                                 Traceback (most recent call last)",
      "Input \u001b[0;32mIn [1]\u001b[0m, in \u001b[0;36m<cell line: 2>\u001b[0;34m()\u001b[0m\n\u001b[1;32m      1\u001b[0m \u001b[38;5;66;03m# audio file and its duration in minutes\u001b[39;00m\n\u001b[0;32m----> 2\u001b[0m fname_in \u001b[38;5;241m=\u001b[39m \u001b[43mmydir\u001b[49m \u001b[38;5;241m+\u001b[39m \u001b[38;5;124m\"\u001b[39m\u001b[38;5;124mScreen_Recording_2021-03-31.wav\u001b[39m\u001b[38;5;124m\"\u001b[39m\n\u001b[1;32m      3\u001b[0m fname_out \u001b[38;5;241m=\u001b[39m fname_in[:\u001b[38;5;241m-\u001b[39m\u001b[38;5;241m3\u001b[39m] \u001b[38;5;241m+\u001b[39m \u001b[38;5;124m\"\u001b[39m\u001b[38;5;124mtxt\u001b[39m\u001b[38;5;124m\"\u001b[39m\n\u001b[1;32m      4\u001b[0m \u001b[38;5;28mprint\u001b[39m(fname_in)\n",
      "\u001b[0;31mNameError\u001b[0m: name 'mydir' is not defined"
     ]
    }
   ],
   "source": [
    "# audio file and its duration in minutes\n",
    "fname_in = mydir + \"Screen_Recording_2021-03-31.wav\"\n",
    "fname_out = fname_in[:-3] + \"txt\"\n",
    "print(fname_in)\n",
    "print(fname_out)\n",
    "N_minutes = 11"
   ]
  },
  {
   "cell_type": "code",
   "execution_count": 2,
   "metadata": {},
   "outputs": [
    {
     "ename": "NameError",
     "evalue": "name 'time' is not defined",
     "output_type": "error",
     "traceback": [
      "\u001b[0;31m---------------------------------------------------------------------------\u001b[0m",
      "\u001b[0;31mNameError\u001b[0m                                 Traceback (most recent call last)",
      "File \u001b[0;32m<timed exec>:1\u001b[0m, in \u001b[0;36m<module>\u001b[0;34m\u001b[0m\n",
      "\u001b[0;31mNameError\u001b[0m: name 'time' is not defined"
     ]
    }
   ],
   "source": [
    "%%time\n",
    "t1 = time.time()\n",
    "myfile = sr.AudioFile(fname_in)\n",
    "r = sr.Recognizer()\n",
    "\n",
    "# process 30 sec at a time\n",
    "N_parts = 2*(N_minutes+1)\n",
    "mylist = []\n",
    "for ii in range(N_parts):\n",
    "    try:\n",
    "        elapsed = int(time.time()-t1)\n",
    "        remain = 30\n",
    "        if ii > 0:\n",
    "            t_per_part = 1.0*elapsed/ii\n",
    "            remain = int(t_per_part*(N_parts-ii))\n",
    "        print(f\"processing ii={ii}/{N_parts}, elapsed/remain={elapsed}/{remain} seconds\")\n",
    "        with myfile as source:\n",
    "            audio = r.record(source, offset=ii*30-1, duration=30+2)\n",
    "        txt = r.recognize_google(audio)\n",
    "        mylist.append(txt)\n",
    "    except:\n",
    "        print(f\"ERROR at ii={ii}\")"
   ]
  },
  {
   "cell_type": "code",
   "execution_count": 5,
   "metadata": {},
   "outputs": [],
   "source": [
    "all_txt = \"\\n\\n\".join(mylist)+\"\\n\"\n",
    "\n",
    "# print(all_txt)"
   ]
  },
  {
   "cell_type": "code",
   "execution_count": 6,
   "metadata": {},
   "outputs": [
    {
     "name": "stdout",
     "output_type": "stream",
     "text": [
      "DONE\n"
     ]
    }
   ],
   "source": [
    "with open(fname_out, \"w\") as fh:\n",
    "    fh.write(all_txt)\n",
    "print(\"DONE\")"
   ]
  },
  {
   "cell_type": "code",
   "execution_count": null,
   "metadata": {},
   "outputs": [],
   "source": []
  }
 ],
 "metadata": {
  "kernelspec": {
   "display_name": "Python 3 (ipykernel)",
   "language": "python",
   "name": "python3"
  },
  "language_info": {
   "codemirror_mode": {
    "name": "ipython",
    "version": 3
   },
   "file_extension": ".py",
   "mimetype": "text/x-python",
   "name": "python",
   "nbconvert_exporter": "python",
   "pygments_lexer": "ipython3",
   "version": "3.9.12"
  }
 },
 "nbformat": 4,
 "nbformat_minor": 4
}
