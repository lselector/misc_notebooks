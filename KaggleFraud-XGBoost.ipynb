{
 "cells": [
  {
   "cell_type": "markdown",
   "metadata": {
    "nbpresent": {
     "id": "3cd8be52-2ec7-407b-b092-fa47818e8916"
    }
   },
   "source": [
    "<h3>Fraud Detection using XGBoost</h3>\n",
    "<p>Kaggle Credit Card Fraud Data Set - https://www.kaggle.com/mlg-ulb/creditcardfraud - \n",
    "<br>sklearn, XGBoost</p>"
   ]
  },
  {
   "cell_type": "code",
   "execution_count": 1,
   "metadata": {
    "nbpresent": {
     "id": "0415e0b4-eadd-49a4-bfa9-7b15a490bf46"
    }
   },
   "outputs": [],
   "source": [
    "import sys, os, time, gc\n",
    "\n",
    "import pandas as pd\n",
    "import numpy as np\n",
    "\n",
    "from collections import Counter\n",
    "from scipy.stats import ks_2samp\n",
    "\n",
    "from sklearn.preprocessing import StandardScaler\n",
    "from sklearn.metrics import precision_score,        \\\n",
    "                            recall_score,           \\\n",
    "                            fbeta_score,            \\\n",
    "                            f1_score,               \\\n",
    "                            confusion_matrix,       \\\n",
    "                            precision_recall_curve, \\\n",
    "                            roc_curve,              \\\n",
    "                            auc\n",
    "\n",
    "from xgboost.sklearn import XGBClassifier\n",
    "from imblearn.over_sampling import SMOTE, ADASYN\n",
    "\n",
    "import matplotlib.pyplot as plt\n",
    "%matplotlib inline"
   ]
  },
  {
   "cell_type": "code",
   "execution_count": 2,
   "metadata": {
    "nbpresent": {
     "id": "3b6b10fc-3dea-49a2-ba02-679cbd67aec8"
    }
   },
   "outputs": [
    {
     "data": {
      "text/html": [
       "<div>\n",
       "<style scoped>\n",
       "    .dataframe tbody tr th:only-of-type {\n",
       "        vertical-align: middle;\n",
       "    }\n",
       "\n",
       "    .dataframe tbody tr th {\n",
       "        vertical-align: top;\n",
       "    }\n",
       "\n",
       "    .dataframe thead th {\n",
       "        text-align: right;\n",
       "    }\n",
       "</style>\n",
       "<table border=\"1\" class=\"dataframe\">\n",
       "  <thead>\n",
       "    <tr style=\"text-align: right;\">\n",
       "      <th></th>\n",
       "      <th>Time</th>\n",
       "      <th>V1</th>\n",
       "      <th>V2</th>\n",
       "      <th>V3</th>\n",
       "      <th>V4</th>\n",
       "      <th>V5</th>\n",
       "      <th>V6</th>\n",
       "      <th>V7</th>\n",
       "      <th>V8</th>\n",
       "      <th>V9</th>\n",
       "      <th>...</th>\n",
       "      <th>V21</th>\n",
       "      <th>V22</th>\n",
       "      <th>V23</th>\n",
       "      <th>V24</th>\n",
       "      <th>V25</th>\n",
       "      <th>V26</th>\n",
       "      <th>V27</th>\n",
       "      <th>V28</th>\n",
       "      <th>Amount</th>\n",
       "      <th>Class</th>\n",
       "    </tr>\n",
       "  </thead>\n",
       "  <tbody>\n",
       "    <tr>\n",
       "      <th>0</th>\n",
       "      <td>0.0</td>\n",
       "      <td>-1.359807</td>\n",
       "      <td>-0.072781</td>\n",
       "      <td>2.536347</td>\n",
       "      <td>1.378155</td>\n",
       "      <td>-0.338321</td>\n",
       "      <td>0.462388</td>\n",
       "      <td>0.239599</td>\n",
       "      <td>0.098698</td>\n",
       "      <td>0.363787</td>\n",
       "      <td>...</td>\n",
       "      <td>-0.018307</td>\n",
       "      <td>0.277838</td>\n",
       "      <td>-0.110474</td>\n",
       "      <td>0.066928</td>\n",
       "      <td>0.128539</td>\n",
       "      <td>-0.189115</td>\n",
       "      <td>0.133558</td>\n",
       "      <td>-0.021053</td>\n",
       "      <td>149.62</td>\n",
       "      <td>0</td>\n",
       "    </tr>\n",
       "    <tr>\n",
       "      <th>1</th>\n",
       "      <td>0.0</td>\n",
       "      <td>1.191857</td>\n",
       "      <td>0.266151</td>\n",
       "      <td>0.166480</td>\n",
       "      <td>0.448154</td>\n",
       "      <td>0.060018</td>\n",
       "      <td>-0.082361</td>\n",
       "      <td>-0.078803</td>\n",
       "      <td>0.085102</td>\n",
       "      <td>-0.255425</td>\n",
       "      <td>...</td>\n",
       "      <td>-0.225775</td>\n",
       "      <td>-0.638672</td>\n",
       "      <td>0.101288</td>\n",
       "      <td>-0.339846</td>\n",
       "      <td>0.167170</td>\n",
       "      <td>0.125895</td>\n",
       "      <td>-0.008983</td>\n",
       "      <td>0.014724</td>\n",
       "      <td>2.69</td>\n",
       "      <td>0</td>\n",
       "    </tr>\n",
       "    <tr>\n",
       "      <th>2</th>\n",
       "      <td>1.0</td>\n",
       "      <td>-1.358354</td>\n",
       "      <td>-1.340163</td>\n",
       "      <td>1.773209</td>\n",
       "      <td>0.379780</td>\n",
       "      <td>-0.503198</td>\n",
       "      <td>1.800499</td>\n",
       "      <td>0.791461</td>\n",
       "      <td>0.247676</td>\n",
       "      <td>-1.514654</td>\n",
       "      <td>...</td>\n",
       "      <td>0.247998</td>\n",
       "      <td>0.771679</td>\n",
       "      <td>0.909412</td>\n",
       "      <td>-0.689281</td>\n",
       "      <td>-0.327642</td>\n",
       "      <td>-0.139097</td>\n",
       "      <td>-0.055353</td>\n",
       "      <td>-0.059752</td>\n",
       "      <td>378.66</td>\n",
       "      <td>0</td>\n",
       "    </tr>\n",
       "    <tr>\n",
       "      <th>3</th>\n",
       "      <td>1.0</td>\n",
       "      <td>-0.966272</td>\n",
       "      <td>-0.185226</td>\n",
       "      <td>1.792993</td>\n",
       "      <td>-0.863291</td>\n",
       "      <td>-0.010309</td>\n",
       "      <td>1.247203</td>\n",
       "      <td>0.237609</td>\n",
       "      <td>0.377436</td>\n",
       "      <td>-1.387024</td>\n",
       "      <td>...</td>\n",
       "      <td>-0.108300</td>\n",
       "      <td>0.005274</td>\n",
       "      <td>-0.190321</td>\n",
       "      <td>-1.175575</td>\n",
       "      <td>0.647376</td>\n",
       "      <td>-0.221929</td>\n",
       "      <td>0.062723</td>\n",
       "      <td>0.061458</td>\n",
       "      <td>123.50</td>\n",
       "      <td>0</td>\n",
       "    </tr>\n",
       "    <tr>\n",
       "      <th>4</th>\n",
       "      <td>2.0</td>\n",
       "      <td>-1.158233</td>\n",
       "      <td>0.877737</td>\n",
       "      <td>1.548718</td>\n",
       "      <td>0.403034</td>\n",
       "      <td>-0.407193</td>\n",
       "      <td>0.095921</td>\n",
       "      <td>0.592941</td>\n",
       "      <td>-0.270533</td>\n",
       "      <td>0.817739</td>\n",
       "      <td>...</td>\n",
       "      <td>-0.009431</td>\n",
       "      <td>0.798278</td>\n",
       "      <td>-0.137458</td>\n",
       "      <td>0.141267</td>\n",
       "      <td>-0.206010</td>\n",
       "      <td>0.502292</td>\n",
       "      <td>0.219422</td>\n",
       "      <td>0.215153</td>\n",
       "      <td>69.99</td>\n",
       "      <td>0</td>\n",
       "    </tr>\n",
       "  </tbody>\n",
       "</table>\n",
       "<p>5 rows × 31 columns</p>\n",
       "</div>"
      ],
      "text/plain": [
       "   Time        V1        V2        V3        V4        V5        V6        V7        V8        V9  ...       V21       V22       V23       V24       V25       V26       V27       V28  Amount  Class\n",
       "0   0.0 -1.359807 -0.072781  2.536347  1.378155 -0.338321  0.462388  0.239599  0.098698  0.363787  ... -0.018307  0.277838 -0.110474  0.066928  0.128539 -0.189115  0.133558 -0.021053  149.62      0\n",
       "1   0.0  1.191857  0.266151  0.166480  0.448154  0.060018 -0.082361 -0.078803  0.085102 -0.255425  ... -0.225775 -0.638672  0.101288 -0.339846  0.167170  0.125895 -0.008983  0.014724    2.69      0\n",
       "2   1.0 -1.358354 -1.340163  1.773209  0.379780 -0.503198  1.800499  0.791461  0.247676 -1.514654  ...  0.247998  0.771679  0.909412 -0.689281 -0.327642 -0.139097 -0.055353 -0.059752  378.66      0\n",
       "3   1.0 -0.966272 -0.185226  1.792993 -0.863291 -0.010309  1.247203  0.237609  0.377436 -1.387024  ... -0.108300  0.005274 -0.190321 -1.175575  0.647376 -0.221929  0.062723  0.061458  123.50      0\n",
       "4   2.0 -1.158233  0.877737  1.548718  0.403034 -0.407193  0.095921  0.592941 -0.270533  0.817739  ... -0.009431  0.798278 -0.137458  0.141267 -0.206010  0.502292  0.219422  0.215153   69.99      0\n",
       "\n",
       "[5 rows x 31 columns]"
      ]
     },
     "execution_count": 2,
     "metadata": {},
     "output_type": "execute_result"
    }
   ],
   "source": [
    "input_file = 'data/creditcard.csv'\n",
    "df = pd.read_csv(input_file)\n",
    "df.head()"
   ]
  },
  {
   "cell_type": "markdown",
   "metadata": {
    "nbpresent": {
     "id": "37e4b30d-0794-430d-87f1-5734e17ff7ca"
    }
   },
   "source": [
    "# Preprocessing"
   ]
  },
  {
   "cell_type": "code",
   "execution_count": 3,
   "metadata": {
    "nbpresent": {
     "id": "ce006b59-b3a3-44c9-a532-715c4447fb3d"
    }
   },
   "outputs": [],
   "source": [
    "# make a column 'A' - and put there value of 'Amount' rescaled into (-1,1)\n",
    "sc = StandardScaler()\n",
    "df['A']= sc.fit_transform(df.Amount.values.reshape(-1, 1))\n",
    "\n",
    "# add columns for minuts and hours\n",
    "timedelta = pd.to_timedelta(df['Time'], unit='s')\n",
    "df['Time_min'] = (timedelta.dt.components.minutes).astype(int)\n",
    "df['Time_hour'] = (timedelta.dt.components.hours).astype(int)"
   ]
  },
  {
   "cell_type": "code",
   "execution_count": 4,
   "metadata": {
    "nbpresent": {
     "id": "ae45215a-a4c3-4537-ab5b-fb59556e22c6"
    }
   },
   "outputs": [
    {
     "data": {
      "text/plain": [
       "Index(['Time', 'V1', 'V2', 'V3', 'V4', 'V5', 'V6', 'V7', 'V8', 'V9', 'V10', 'V11', 'V12', 'V13', 'V14', 'V15', 'V16', 'V17', 'V18', 'V19', 'V20', 'V21', 'V22', 'V23', 'V24', 'V25', 'V26', 'V27', 'V28', 'Amount', 'Class', 'A', 'Time_min', 'Time_hour'], dtype='object')"
      ]
     },
     "execution_count": 4,
     "metadata": {},
     "output_type": "execute_result"
    }
   ],
   "source": [
    "df.columns"
   ]
  },
  {
   "cell_type": "code",
   "execution_count": 5,
   "metadata": {
    "nbpresent": {
     "id": "7d47503c-f953-46f9-b15a-212a8e858e45"
    }
   },
   "outputs": [
    {
     "name": "stdout",
     "output_type": "stream",
     "text": [
      "['V1', 'V2', 'V3', 'V4', 'V5', 'V6', 'V7', 'V8', 'V9', 'V10', 'V11', 'V12', 'V13', 'V14', 'V15', 'V16', 'V17', 'V18', 'V19', 'V20', 'V21', 'V22', 'V23', 'V24', 'V25', 'V26', 'V27', 'V28', 'A', 'Time_min', 'Time_hour']\n"
     ]
    }
   ],
   "source": [
    "cols = []\n",
    "for ii in range(1,29):\n",
    "    cols += [\"V%d\"%ii]\n",
    "cols += ['A'] + ['Time_min'] + ['Time_hour']\n",
    "print(str(cols))\n",
    "# ['V1', 'V2', 'V3', 'V4', 'V5', 'V6', 'V7', 'V8', 'V9', 'V10', \n",
    "# 'V11', 'V12', 'V13', 'V14', 'V15', 'V16', 'V17', 'V18', 'V19', 'V20', \n",
    "# 'V21', 'V22', 'V23', 'V24', 'V25', 'V26', 'V27', 'V28', \n",
    "# 'A', 'Time_min', 'Time_hour']"
   ]
  },
  {
   "cell_type": "markdown",
   "metadata": {},
   "source": [
    "### Pick 10 most correlated variables"
   ]
  },
  {
   "cell_type": "code",
   "execution_count": 6,
   "metadata": {},
   "outputs": [
    {
     "name": "stdout",
     "output_type": "stream",
     "text": [
      "small p_values indicate different distributions\n",
      "----------------------------------------\n",
      "label => p_value\n",
      "----------------------------------------\n",
      "V1 => 0.000000\n",
      "V2 => 0.000000\n",
      "V3 => 0.000000\n",
      "V4 => 0.000000\n",
      "V5 => 0.000000\n",
      "V6 => 0.000000\n",
      "V7 => 0.000000\n",
      "V8 => 0.000000\n",
      "V9 => 0.000000\n",
      "V10 => 0.000000\n",
      "V11 => 0.000000\n",
      "V12 => 0.000000\n",
      "V13 => 0.000053\n",
      "V14 => 0.000000\n",
      "V15 => 0.036886\n",
      "V16 => 0.000000\n",
      "V17 => 0.000000\n",
      "V18 => 0.000000\n",
      "V19 => 0.000000\n",
      "V20 => 0.000000\n",
      "V21 => 0.000000\n",
      "V22 => 0.071807\n",
      "V23 => 0.000000\n",
      "V24 => 0.000000\n",
      "V25 => 0.000910\n",
      "V26 => 0.000570\n",
      "V27 => 0.000000\n",
      "V28 => 0.000000\n",
      "A => 0.000000\n",
      "Time_min => 0.646457\n",
      "Time_hour => 0.000000\n"
     ]
    }
   ],
   "source": [
    "# find which columns' values change their distribution the most\n",
    "# when we change from rows with Class=0 to Class==1.\n",
    "# To compare two distributions we will use Kolmogorov-Smirnov test.\n",
    "#  - https://en.wikipedia.org/wiki/Kolmogorov%E2%80%93Smirnov_test\n",
    "# Note - this is just one of many tests, for example, read this discussion:\n",
    "#  - https://stats.stackexchange.com/questions/1001/is-spearmans-correlation-coefficient-usable-to-compare-distributions\n",
    "# \n",
    "# function ks_2samp(array1, array2) \n",
    "# compares distributions of values in two arrays\n",
    "# and returns p_value\n",
    "#    p_value > 0.4 - distributions are very similar (identical)\n",
    "#    p_value very small - distributions differ\n",
    "\n",
    "ks = []\n",
    "print(\"small p_values indicate different distributions\")\n",
    "print('-'*40)\n",
    "print(\"label => p_value\") \n",
    "print('-'*40)\n",
    "for col in cols:\n",
    "    vals_0 = df[df.Class == 0][col].values # values for column <col> for rows where Class==0\n",
    "    vals_1 = df[df.Class == 1][col].values # values for column <col> for rows where Class==1\n",
    "    p_val = ks_2samp(vals_0, vals_1)[1]    # p_val is bigger for similar distributions\n",
    "    ks.append((col, p_val))\n",
    "    print(\"%s => %.6f\" % (col,p_val))"
   ]
  },
  {
   "cell_type": "code",
   "execution_count": 7,
   "metadata": {},
   "outputs": [
    {
     "data": {
      "text/html": [
       "<div>\n",
       "<style scoped>\n",
       "    .dataframe tbody tr th:only-of-type {\n",
       "        vertical-align: middle;\n",
       "    }\n",
       "\n",
       "    .dataframe tbody tr th {\n",
       "        vertical-align: top;\n",
       "    }\n",
       "\n",
       "    .dataframe thead th {\n",
       "        text-align: right;\n",
       "    }\n",
       "</style>\n",
       "<table border=\"1\" class=\"dataframe\">\n",
       "  <thead>\n",
       "    <tr style=\"text-align: right;\">\n",
       "      <th></th>\n",
       "      <th>label</th>\n",
       "      <th>p_val</th>\n",
       "    </tr>\n",
       "  </thead>\n",
       "  <tbody>\n",
       "    <tr>\n",
       "      <th>9</th>\n",
       "      <td>V10</td>\n",
       "      <td>0.000000e+00</td>\n",
       "    </tr>\n",
       "    <tr>\n",
       "      <th>13</th>\n",
       "      <td>V14</td>\n",
       "      <td>0.000000e+00</td>\n",
       "    </tr>\n",
       "    <tr>\n",
       "      <th>11</th>\n",
       "      <td>V12</td>\n",
       "      <td>8.606624e-321</td>\n",
       "    </tr>\n",
       "    <tr>\n",
       "      <th>3</th>\n",
       "      <td>V4</td>\n",
       "      <td>2.040642e-302</td>\n",
       "    </tr>\n",
       "    <tr>\n",
       "      <th>10</th>\n",
       "      <td>V11</td>\n",
       "      <td>4.347507e-292</td>\n",
       "    </tr>\n",
       "    <tr>\n",
       "      <th>16</th>\n",
       "      <td>V17</td>\n",
       "      <td>1.387411e-281</td>\n",
       "    </tr>\n",
       "    <tr>\n",
       "      <th>2</th>\n",
       "      <td>V3</td>\n",
       "      <td>9.927580e-245</td>\n",
       "    </tr>\n",
       "    <tr>\n",
       "      <th>15</th>\n",
       "      <td>V16</td>\n",
       "      <td>9.366543e-231</td>\n",
       "    </tr>\n",
       "    <tr>\n",
       "      <th>6</th>\n",
       "      <td>V7</td>\n",
       "      <td>6.776862e-211</td>\n",
       "    </tr>\n",
       "    <tr>\n",
       "      <th>1</th>\n",
       "      <td>V2</td>\n",
       "      <td>2.163895e-191</td>\n",
       "    </tr>\n",
       "  </tbody>\n",
       "</table>\n",
       "</div>"
      ],
      "text/plain": [
       "   label          p_val\n",
       "9    V10   0.000000e+00\n",
       "13   V14   0.000000e+00\n",
       "11   V12  8.606624e-321\n",
       "3     V4  2.040642e-302\n",
       "10   V11  4.347507e-292\n",
       "16   V17  1.387411e-281\n",
       "2     V3  9.927580e-245\n",
       "15   V16  9.366543e-231\n",
       "6     V7  6.776862e-211\n",
       "1     V2  2.163895e-191"
      ]
     },
     "execution_count": 7,
     "metadata": {},
     "output_type": "execute_result"
    }
   ],
   "source": [
    "# pick 10 variables whose distributions change the most between Class values 0,1\n",
    "# (this means that p_val is the lowest)\n",
    "\n",
    "# create DataFrame [label, p_val]\n",
    "ks_df = pd.DataFrame(data = ks, columns = ['label', 'p_val'])\n",
    "\n",
    "# sort by p_val in ascending order\n",
    "df_sorted_by_pvals = ks_df.sort_values(by='p_val',ascending=True)[:10] # .label.iloc[:20]\n",
    "df_sorted_by_pvals"
   ]
  },
  {
   "cell_type": "code",
   "execution_count": 8,
   "metadata": {},
   "outputs": [
    {
     "data": {
      "text/plain": [
       "9     V10\n",
       "13    V14\n",
       "11    V12\n",
       "3      V4\n",
       "10    V11\n",
       "16    V17\n",
       "2      V3\n",
       "15    V16\n",
       "6      V7\n",
       "1      V2\n",
       "Name: label, dtype: object"
      ]
     },
     "execution_count": 8,
     "metadata": {},
     "output_type": "execute_result"
    }
   ],
   "source": [
    "ser_corr10_cols = df_sorted_by_pvals['label']  # type - pandas series, values = [V14,V10, etc.]\n",
    "ser_corr10_cols"
   ]
  },
  {
   "cell_type": "markdown",
   "metadata": {
    "nbpresent": {
     "id": "bd4e687f-f46e-40bd-b55b-d422b24e6b8e"
    }
   },
   "source": [
    "<h3>Create Cross-Validation Folds</h3>\n",
    "<p>We randomly split all data rows in 4 groups (folds) numbered as 0,1,2,3\n",
    "<br>For modeling we will randomly select one of the folds as test data, \n",
    "<br>and combination of other three folds as training data.\n",
    "<br>Thus we can repeat modeling 4 times (if there are 4 folds).\n",
    "<br>Below we do that. We also repeat everything 3 times.\n",
    "<br>So we make 12 calculations, and then calculate mean and standard deviation.</p>"
   ]
  },
  {
   "cell_type": "code",
   "execution_count": 9,
   "metadata": {
    "nbpresent": {
     "id": "845147a1-c6dd-4be6-8706-f3fd15840606"
    }
   },
   "outputs": [
    {
     "name": "stdout",
     "output_type": "stream",
     "text": [
      "values in column 'cv_fold': [0 1 2 3]\n",
      "check that classes (0 or 1) are approx evenly distributed\n",
      "between folds: (0+1+2+3)/4 = 1.5\n",
      "0 => 1.5027\n",
      "1 => 1.5833\n"
     ]
    }
   ],
   "source": [
    "n_cv = 4           # number of cross-validation folds\n",
    "df_len = len(df)   # length of data\n",
    "\n",
    "# randomly populate column cv_fold with numbers 0,1,2,3\n",
    "df['cv_fold'] = np.random.randint(0,4, df_len)  \n",
    "print(\"values in column 'cv_fold':\", np.unique(df['cv_fold']))\n",
    "\n",
    "print(\"check that classes (0 or 1) are approx evenly distributed\")\n",
    "print(\"between folds: (0+1+2+3)/4 = 1.5\")\n",
    "print (\"0 => %.4f\" % np.mean(df.cv_fold[df.Class == 0]))\n",
    "print (\"1 => %.4f\" % np.mean(df.cv_fold[df.Class == 1]))"
   ]
  },
  {
   "cell_type": "code",
   "execution_count": 10,
   "metadata": {
    "nbpresent": {
     "id": "e9262948-0b07-45f6-a598-3372c11b0978"
    }
   },
   "outputs": [],
   "source": [
    "def print_results(ytest, ypredict):\n",
    "    print (\"Precision : %.6f\" %  precision_score(ytest, ypredict))\n",
    "    print (\"Recall    : %.6f\" %  recall_score   (ytest, ypredict))\n",
    "    print (\"F1-score  : %.6f\" %  fbeta_score    (ytest, ypredict, beta=1))\n",
    "    print (\"F2-score  : %.6f\" %  fbeta_score    (ytest, ypredict, beta=1))  "
   ]
  },
  {
   "cell_type": "code",
   "execution_count": 11,
   "metadata": {
    "nbpresent": {
     "id": "c5c696ca-636b-4cd9-83b0-2370f59e67a3"
    }
   },
   "outputs": [],
   "source": [
    "def f1score_comp(recall, precision):\n",
    "    \"\"\"Calculate and return F1 score\"\"\"\n",
    "    f1score = []\n",
    "    for r,p in zip(recall, precision):\n",
    "        if r == p == 0:\n",
    "            f1score.append(0.0)\n",
    "        else:\n",
    "            f1score.append(2.0 * r * p/(r+p))\n",
    "    return f1score"
   ]
  },
  {
   "cell_type": "markdown",
   "metadata": {},
   "source": [
    "<h3>run_cv() - XGBClassifier without imputing data</h3>"
   ]
  },
  {
   "cell_type": "code",
   "execution_count": 12,
   "metadata": {},
   "outputs": [],
   "source": [
    "def run_cv(model, label, columns):\n",
    "    \"\"\"\n",
    "    #  runs XGBClassifier\n",
    "    #  gets data from external DataFrame df:\n",
    "    #      X => df[columns]\n",
    "    #      Y => df['Class']\n",
    "    #  goess through n_cv folds\n",
    "    #  returns dictionary \"res\" \n",
    "    #      keys   [precision, recall, f1core]\n",
    "    #      values as tuples (mean, std_deviation)\n",
    "    \"\"\"   \n",
    "    print(\"running \", label)\n",
    "    t1=time.time()\n",
    "\n",
    "    precisions = []\n",
    "    recalls = []\n",
    "    f1scores = []\n",
    "    n_cv = len(df.cv_fold.unique())\n",
    "\n",
    "    for n in range(n_cv):\n",
    "        print(\"(fold=%d), \" % (n), end='')\n",
    "        X_train = df[df.cv_fold != n][columns]\n",
    "        Y_train = df[df.cv_fold != n]['Class']\n",
    "        X_test  = df[df.cv_fold == n][columns]\n",
    "        Y_test  = df[df.cv_fold == n]['Class']\n",
    "        model.fit(X_train, Y_train, \n",
    "                  eval_set=[((X_train, Y_train)), (X_test, Y_test)], \n",
    "                  verbose = False)\n",
    "\n",
    "        Y_predict = model.predict(X_test)\n",
    "        recalls.append    (recall_score    (Y_test, Y_predict))\n",
    "        precisions.append (precision_score (Y_test, Y_predict))\n",
    "        f1scores.append   (f1_score        (Y_test, Y_predict))\n",
    "\n",
    "    print()\n",
    "    res = {}\n",
    "    res['precision'] = (np.mean(precisions), np.std(precisions))\n",
    "    res['recall'   ] = (np.mean(recalls)   , np.std(recalls)   )\n",
    "    res['f1score'  ] = (np.mean(f1scores)  , np.std(f1scores)  )    \n",
    "    \n",
    "    print(\"\\nfinished %d calculations\" % (n_cv))\n",
    "    print (\"Precision : %.6f +- %.6f\" % (np.mean(precisions) , np.std(precisions)))\n",
    "    print (\"Recall    : %.6f +- %.6f\" % (np.mean(recalls)    , np.std(recalls)))\n",
    "    print (\"F1 score  : %.6f +- %.6f\" % (np.mean(f1scores)   , np.std(f1scores)))\n",
    "    print(\"Elapsed %.2f sec\" % (time.time()-t1) )\n",
    "    print('-'*65,\"\\n\")\n",
    "    \n",
    "    return res"
   ]
  },
  {
   "cell_type": "markdown",
   "metadata": {},
   "source": [
    "<h3>run_cv() - XGBClassifier without imputing data</h3>"
   ]
  },
  {
   "cell_type": "code",
   "execution_count": 13,
   "metadata": {},
   "outputs": [],
   "source": [
    "def run_cv_smote(model, label, columns, resampler):\n",
    "    \"\"\"\n",
    "    #  runs XGBClassifier\n",
    "    #  with imputing values into minority class\n",
    "    #  (using SMOTE or ADASYN to decrease imbalance between classes)\n",
    "    #  gets data from external DataFrame df:\n",
    "    #      X => df[columns]\n",
    "    #      Y => df['Class']\n",
    "    #  goess through n_cv folds\n",
    "    #  returns dictionary \"res\" \n",
    "    #      keys   [precision, recall, f1core]\n",
    "    #      values as tuples (mean, std_deviation)\n",
    "    \"\"\"   \n",
    "    print(\"running \", label)\n",
    "    t1=time.time()\n",
    "\n",
    "    precisions = []\n",
    "    recalls = []\n",
    "    f1scores = []\n",
    "    n_cv = len(df.cv_fold.unique())\n",
    "\n",
    "    for n in range(n_cv):\n",
    "        print(\"(fold=%d), \" % (n), end='')\n",
    "        X_train = df[df.cv_fold != n][columns]\n",
    "        Y_train = df[df.cv_fold != n]['Class']\n",
    "        X_test  = df[df.cv_fold == n][columns]\n",
    "        Y_test  = df[df.cv_fold == n]['Class']\n",
    "        #sm = SMOTE(random_state=12,  k_neighbors=5, ratio = {1:sum(Y_train == 0)})\n",
    "        x_train_res, y_train_res = resampler.fit_sample(X_train, Y_train)\n",
    "        X_train_res = pd.DataFrame(data = x_train_res, columns = X_train.columns)\n",
    "        model.fit(X_train_res, y_train_res, \n",
    "                  eval_set=[((X_train_res, y_train_res)),(X_test, Y_test)], \n",
    "                  verbose = False)\n",
    "        \n",
    "        Y_predict = model.predict(X_test)\n",
    "        recalls.append    (recall_score    (Y_test, Y_predict))\n",
    "        precisions.append (precision_score (Y_test, Y_predict))\n",
    "        f1scores.append   (f1_score        (Y_test, Y_predict))\n",
    "\n",
    "    print()\n",
    "    res = {}\n",
    "    res['precision'] = (np.mean(precisions), np.std(precisions))\n",
    "    res['recall'   ] = (np.mean(recalls)   , np.std(recalls)   )\n",
    "    res['f1score'  ] = (np.mean(f1scores)  , np.std(f1scores)  )    \n",
    "\n",
    "    print(\"\\nfinished %d calculations\" % (n_cv))\n",
    "    print (\"Precision : %.6f +- %.6f\" % (np.mean(precisions) , np.std(precisions)))\n",
    "    print (\"Recall    : %.6f +- %.6f\" % (np.mean(recalls)    , np.std(recalls)))\n",
    "    print (\"F1 score  : %.6f +- %.6f\" % (np.mean(f1scores)   , np.std(f1scores)))\n",
    "    print(\"Elapsed %.2f sec\" % (time.time()-t1) )\n",
    "    print('-'*65,\"\\n\")\n",
    "\n",
    "    return res"
   ]
  },
  {
   "cell_type": "code",
   "execution_count": 14,
   "metadata": {},
   "outputs": [],
   "source": [
    "results = {}"
   ]
  },
  {
   "cell_type": "code",
   "execution_count": 15,
   "metadata": {},
   "outputs": [],
   "source": [
    "# create sets of params:\n",
    "\n",
    "# ------------------------------\n",
    "#xgb1\n",
    "params = {}\n",
    "params['eta'] = 0.03\n",
    "params['objective'] = 'binary:logistic'\n",
    "params['eval_metric'] = 'auc'\n",
    "params['max_depth'] = 15\n",
    "params['early_stopping_rounds'] = 100\n",
    "#params['min_child_weight']= 6\n",
    "#params['subsample']=0.7\n",
    "#params['colsample_bytree']= 0.3\n",
    "\n",
    "# ------------------------------\n",
    "#xgb2\n",
    "params2 = {}\n",
    "params2['eta'] = 0.03\n",
    "params2['objective'] = 'binary:logistic'\n",
    "params2['eval_metric'] = 'auc'\n",
    "params2['max_depth'] = 5\n",
    "params2['gamma'] = 0.5\n",
    "params2['early_stopping_rounds'] = 100\n",
    "#params['min_child_weight']= 6\n",
    "#params['subsample']=0.7\n",
    "#params['colsample_bytree']= 0.3"
   ]
  },
  {
   "cell_type": "markdown",
   "metadata": {},
   "source": [
    "<h3>Functions to run different cases</h3>"
   ]
  },
  {
   "cell_type": "code",
   "execution_count": 16,
   "metadata": {},
   "outputs": [],
   "source": [
    "# --------------------------------------------------------------\n",
    "def run_xgb1():\n",
    "    xgb_model = XGBClassifier(**params)\n",
    "    label = 'xgb1'\n",
    "    results[label] = run_cv(xgb_model, label, cols)\n",
    "\n",
    "# --------------------------------------------------------------\n",
    "def run_xgb2():\n",
    "    xgb_model = XGBClassifier(**params2)\n",
    "    label = 'xgb2'\n",
    "    results[label] = run_cv(xgb_model, label, cols)\n",
    "\n",
    "# --------------------------------------------------------------\n",
    "def run_xgb1_corr_cols():\n",
    "    xgb_model = XGBClassifier(**params)\n",
    "    label = 'xgb1_corr_cols'\n",
    "    results[label] = run_cv(xgb_model, label, ser_corr10_cols)\n",
    "\n",
    "# --------------------------------------------------------------\n",
    "def run_xgb1_smote():\n",
    "    xgb_model = XGBClassifier(**params)\n",
    "    sm = SMOTE(random_state = 12, ratio = 'minority')\n",
    "    label = 'xgb1_smote'\n",
    "    results[label] = run_cv_smote(xgb_model, label, cols, sm)\n",
    "\n",
    "# --------------------------------------------------------------\n",
    "def run_xgb1_ada():\n",
    "    xgb_model = XGBClassifier(**params)\n",
    "    ada = ADASYN(random_state=42, ratio = 'minority')\n",
    "    label = 'xgb1_ada'\n",
    "    results[label] = run_cv_smote(xgb_model, label, cols, ada)\n",
    "\n",
    "# --------------------------------------------------------------\n",
    "def run_xgb1_smote_corr_cols():\n",
    "    xgb_model = XGBClassifier(**params)\n",
    "    sm = SMOTE(random_state = 12, ratio = 'minority')\n",
    "    label = 'xgb1_smote_corr_cols'\n",
    "    results[label] = run_cv_smote(xgb_model, label, ser_corr10_cols, sm)"
   ]
  },
  {
   "cell_type": "markdown",
   "metadata": {},
   "source": [
    "<h3>Now we can run all cases as needed</h3>"
   ]
  },
  {
   "cell_type": "code",
   "execution_count": 18,
   "metadata": {},
   "outputs": [],
   "source": [
    "run_xgb1()\n",
    "run_xgb2()\n",
    "run_xgb1_corr_cols()\n",
    "\n",
    "run_xgb1_smote()\n",
    "run_xgb1_ada()\n",
    "run_xgb1_smote_corr_cols()"
   ]
  },
  {
   "cell_type": "markdown",
   "metadata": {},
   "source": [
    "<h3>Prepare Summary Table of All Results</h3>"
   ]
  },
  {
   "cell_type": "code",
   "execution_count": null,
   "metadata": {},
   "outputs": [],
   "source": [
    "results_orig = results.copy()"
   ]
  },
  {
   "cell_type": "code",
   "execution_count": null,
   "metadata": {},
   "outputs": [],
   "source": [
    "results_df = pd.DataFrame.from_dict(results).transpose()\n",
    "rx = results_df.applymap(lambda x: x[0])\n",
    "re = results_df.applymap(lambda x: x[1])\n",
    "rx"
   ]
  },
  {
   "cell_type": "code",
   "execution_count": null,
   "metadata": {},
   "outputs": [],
   "source": [
    "def make_graph(xx, yy, ee, label):\n",
    "    plt.figure(figsize=(20,10))\n",
    "    plt.errorbar(xx, yy, ee, fmt=\"s\", label=label)\n",
    "    plt.yticks(fontsize=22)\n",
    "    plt.xticks(fontsize=22)\n",
    "    plt.legend(fontsize=22)\n",
    "    plt.show()    "
   ]
  },
  {
   "cell_type": "code",
   "execution_count": null,
   "metadata": {},
   "outputs": [],
   "source": [
    "# make_graph(rx.index, rx.f1score,   re.f1score,   'f1score'   )\n",
    "# make_graph(rx.index, rx.recall,    re.recall,    'recall'    )\n",
    "# make_graph(rx.index, rx.precision, re.precision, 'precision' )\n"
   ]
  },
  {
   "cell_type": "code",
   "execution_count": null,
   "metadata": {},
   "outputs": [],
   "source": []
  }
 ],
 "metadata": {
  "kernelspec": {
   "display_name": "Python 3 (ipykernel)",
   "language": "python",
   "name": "python3"
  },
  "language_info": {
   "codemirror_mode": {
    "name": "ipython",
    "version": 3
   },
   "file_extension": ".py",
   "mimetype": "text/x-python",
   "name": "python",
   "nbconvert_exporter": "python",
   "pygments_lexer": "ipython3",
   "version": "3.9.12"
  }
 },
 "nbformat": 4,
 "nbformat_minor": 2
}
