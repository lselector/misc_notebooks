{
 "cells": [
  {
   "cell_type": "markdown",
   "metadata": {
    "slideshow": {
     "slide_type": "slide"
    }
   },
   "source": [
    "## Memory while spawning subprocesses\n",
    "```\n",
    "Classical way unix start a subprocess is fork+exec.\n",
    "Forking copies memory usage of the parent process.\n",
    "Below I want to test and compare memory usage while \n",
    "using different methods of invoking a subprocess.\n",
    "Updated April 2020\n",
    "\n",
    "Plan:\n",
    "1. create external python script which internally \n",
    "   creates big dataframe (2 GB) and then sleeps/prints\n",
    "2. start this script using subprocess.call() - get its PID\n",
    "    - measure memory usage by PID\n",
    "    - measure total available memory\n",
    "3. try several variations:\n",
    "    - big parrent, big child\n",
    "    - big parent, small child\n",
    "4. try fork/exec vs spawn_posix\n",
    "5. try/compare: subprocess.call(), subprocess.check_output(), subprocess.Popen()\n",
    "6. try os.popen()\n",
    "7. try multiprocessing\n",
    "8. try celery\n",
    "\n",
    "# ---------------------------------\n",
    " - https://www.unix.com/unix-for-advanced-and-expert-users/178644-spawn-vs-fork.html\n",
    "\n",
    "\"\"\"\n",
    "1. all modern UNIX systems also support posix_spawn(), \n",
    "   which does not copy all of memory. Its function is \n",
    "   to do a \"lightweight\" version of fork().\n",
    "\n",
    "2. Linux has something like posix_spawn() called clone().\n",
    "\"\"\"\n",
    "# ---------------------------------\n",
    "\"multiprocessing\" defaults to fork. To switch to \"spawn\":\n",
    "    mp.set_start_method('spawn')\n",
    "\"span\" will launch each child process as a fresh Python \n",
    "interpreter that only inherits resources as necessary.\n",
    "# ---------------------------------\n",
    "```"
   ]
  },
  {
   "cell_type": "code",
   "execution_count": null,
   "metadata": {},
   "outputs": [],
   "source": [
    "import sys, os, datetime, subprocess\n",
    "import pandas as pd\n",
    "import numpy as np\n",
    "# import our utilities\n",
    "from util_jupyter import *\n",
    "from util_models import *\n",
    "from mybag import *"
   ]
  },
  {
   "cell_type": "code",
   "execution_count": null,
   "metadata": {},
   "outputs": [],
   "source": [
    "def print_dt():\n",
    "    dt_str = datetime.datetime.now().strftime(\"%Y-%m-%d %H:%M:%S\")\n",
    "    print(dt_str)"
   ]
  },
  {
   "cell_type": "code",
   "execution_count": null,
   "metadata": {},
   "outputs": [],
   "source": [
    "def ddd(nrows=10):\n",
    "    \"\"\"\n",
    "    # returns a simple pandas DataFrame - useful for quick tests\n",
    "    # nrows is number of rows (divisible by 10), for example:\n",
    "    #     df = ddd()\n",
    "    #     df = ddd(100)\n",
    "    #     df = ddd(10**6)   # million rows\n",
    "    \"\"\"\n",
    "    n_aa = 10\n",
    "    nn = int(nrows/n_aa)\n",
    "    if nn < 1:\n",
    "        nn = 1\n",
    "    aa = pd.DataFrame({\n",
    "          'ii':nn*[0,1,2,3,4,5,np.nan,7,8,9],\n",
    "          'i1':nn*[6,5,4,3,2,1,0,-1,-2,-3],\n",
    "          'i2':nn*[6,5,4,4,1,1,0,-1,-2,-3],\n",
    "          'ff':nn*[0.0,1.0,2.0,np.NaN,4.0,5.0,6.0,7.0,8.0,9.0],\n",
    "          'f1':nn*[0.0,1.01,2.002,3.0003,4.00004,5.000005,6.0000006,7.0,8.0,9.0],\n",
    "          'f2':nn*[1.11,2.22,3.33,4.44,5.55,7.77,9.99,0.01,-0.01,-1.11],\n",
    "          'ss':nn*['s0','s1','狗','汽车',np.nan,'s5','s6','s7','s8','s9'],\n",
    "          's1':nn*list(np.array(['s0','s1','s2','s2',np.nan,'s5','s6','s7','s8','s9'],dtype=np.str)),\n",
    "          's2':nn*['1.11','2.22','3.33','4.44','5.55','7.77','9.99','0.01','-0.01','-1.11'],\n",
    "          'bb':nn*[True, False, True, False, np.nan, False, True,np.nan, False, True],\n",
    "          'b1':nn*[True, False, True, False, True, False, True, True, False, True],\n",
    "          'xx':nn*list(range(n_aa)),\n",
    "          'yy':nn*[x*50 + 60 + np.random.randn() for x in range(n_aa)]\n",
    "    })\n",
    "    aa = aa[['ii','i1','i2','ff','f1','f2','ss','s1','s2','bb','b1','xx','yy']].copy()\n",
    "    aa.index = range(len(aa))\n",
    "\n",
    "    return aa"
   ]
  },
  {
   "cell_type": "code",
   "execution_count": null,
   "metadata": {},
   "outputs": [],
   "source": [
    "%%time\n",
    "# ------------------------------------------------\n",
    "# Create a big DataFrames\n",
    "# ------------------------------------------------\n",
    "print_dt()\n",
    "bag = MyBunch()\n",
    "bag.df = ddd(10**7)\n",
    "print(bag)"
   ]
  },
  {
   "cell_type": "code",
   "execution_count": null,
   "metadata": {},
   "outputs": [],
   "source": [
    "gid = os.getgid()\n",
    "pid = os.getpid()\n",
    "print (pid,gid)"
   ]
  },
  {
   "cell_type": "code",
   "execution_count": null,
   "metadata": {},
   "outputs": [],
   "source": []
  }
 ],
 "metadata": {
  "kernel_info": {
   "name": "python3"
  },
  "kernelspec": {
   "display_name": "Python 3",
   "language": "python",
   "name": "python3"
  },
  "language_info": {
   "codemirror_mode": {
    "name": "ipython",
    "version": 3
   },
   "file_extension": ".py",
   "mimetype": "text/x-python",
   "name": "python",
   "nbconvert_exporter": "python",
   "pygments_lexer": "ipython3",
   "version": "3.7.3"
  },
  "nteract": {
   "version": "0.12.3"
  }
 },
 "nbformat": 4,
 "nbformat_minor": 4
}
