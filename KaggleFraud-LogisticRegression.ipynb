{
 "cells": [
  {
   "cell_type": "markdown",
   "metadata": {},
   "source": [
    "<h3>Logistic Regression | Kaggle Data Set for Credit Card Fraud</h3>\n",
    "\n",
    "Kaggle Credit Card Fraud Data Set - https://www.kaggle.com/mlg-ulb/creditcardfraud - "
   ]
  },
  {
   "cell_type": "code",
   "execution_count": 1,
   "metadata": {},
   "outputs": [],
   "source": [
    "# import libraries\n",
    "import sys, os, time, csv, random\n",
    "import pandas as pd\n",
    "import numpy as np\n",
    "from sklearn import metrics\n",
    "from sklearn.linear_model import LogisticRegression\n",
    "from sklearn.preprocessing import StandardScaler\n",
    "from sklearn.preprocessing import binarize\n",
    "%matplotlib inline\n",
    "import matplotlib.pyplot as plt\n",
    "# --------------------------------------------------------------\n",
    "import importlib\n",
    "from ipython_debug import *\n",
    "from mybag import *\n",
    "bag = MyBunch()"
   ]
  },
  {
   "cell_type": "markdown",
   "metadata": {},
   "source": [
    "<h2>Explanation of terms:</h2>\n",
    "<pre>TPR = True-Positive Rate  = sensitivity, recall, or probability of detection.\n",
    "FPR = False-Positive Rate = fall-out, probability of false alarm.\n",
    "------------------------------------------\n",
    "ROC curve (Receiver Operating Characteristic curve) = TPR vs FPR\n",
    "------------------------------------------\n",
    "Precision P = (1 - false alarms)\n",
    "       = fraction of relevant instances among the retrieved ones\n",
    "Recall (sensitivity)\n",
    "       = (relevant instances retrieved) / (total number of relevant instances)\n",
    "------------------------------------------\n",
    "F1 score = 2/(1/TPR + 1/P) - this is called 'harmonic average'\n",
    "------------------------------------------\n",
    "Confusion matrix:\n",
    "    True  Negative    False Positive\n",
    "    False Negative     True Positive\n",
    "</pre>"
   ]
  },
  {
   "cell_type": "code",
   "execution_count": 2,
   "metadata": {},
   "outputs": [],
   "source": [
    "def load_csv_data(bag):\n",
    "    \"\"\"\n",
    "    # read CSV data from file into bag.df\n",
    "    # starts populating bag.data_cols\n",
    "    # optionally adds strong_predictor column\n",
    "    \"\"\"\n",
    "    fname_in  = \"data/creditcard.csv\"\n",
    "    print(\"reading file %s into a pandas DataFrame\" % fname_in)\n",
    "    df = pd.read_csv(fname_in, sep=\",\", dtype='object')\n",
    "    df_len = len(df)\n",
    "    mycols = df.columns\n",
    "    df_col_len = len(mycols)\n",
    "    print(\"read %d rows and %d columns\" % (df_len, df_col_len))\n",
    "    print(\"change column names by replacing ' ' by '_'\")\n",
    "    mycols = [colname.replace(\" \",\"_\") for colname in mycols]\n",
    "    df.columns = mycols\n",
    "    # -------------------------------------\n",
    "    print(\"replace all nulls by empty strings\")\n",
    "    df.fillna(\"\",inplace=True)\n",
    "    df[\"Class\"] = pd.to_numeric(df[\"Class\"], errors='coerce')\n",
    "    data_cols = mycols[:-1]  # last column is \"Class\" label\n",
    "    \n",
    "    # -------------------------------------\n",
    "    if test_avail(bag, \"strong_predictor_flag\") and (bag.strong_predictor_flag == True):\n",
    "        ampl = bag.strong_predictor_size\n",
    "        nois = bag.strong_predictor_noise\n",
    "        print(\"ATTENTION - invalidating data by adding strong predictor\")\n",
    "        df[\"strong_predictor\"] = 0.4 + ampl*df[\"Class\"] + nois*random.random()\n",
    "        data_cols.append(\"strong_predictor\")\n",
    "\n",
    "    # -------------------------------------\n",
    "    print(\"convert data columns to numeric\")\n",
    "    for colname in data_cols:\n",
    "        df[colname]   = pd.to_numeric(df[colname], errors='coerce')\n",
    "\n",
    "    df[\"Class\"] = pd.to_numeric(df[\"Class\"], errors='coerce')\n",
    "\n",
    "    # -------------------------------------\n",
    "    bag.df_orig = df\n",
    "    bag.data_cols = data_cols"
   ]
  },
  {
   "cell_type": "code",
   "execution_count": 3,
   "metadata": {},
   "outputs": [
    {
     "name": "stdout",
     "output_type": "stream",
     "text": [
      "reading file data/creditcard.csv into a pandas DataFrame\n",
      "read 284807 rows and 31 columns\n",
      "change column names by replacing ' ' by '_'\n",
      "replace all nulls by empty strings\n",
      "convert data columns to numeric\n"
     ]
    },
    {
     "data": {
      "text/html": [
       "<div>\n",
       "<style scoped>\n",
       "    .dataframe tbody tr th:only-of-type {\n",
       "        vertical-align: middle;\n",
       "    }\n",
       "\n",
       "    .dataframe tbody tr th {\n",
       "        vertical-align: top;\n",
       "    }\n",
       "\n",
       "    .dataframe thead th {\n",
       "        text-align: right;\n",
       "    }\n",
       "</style>\n",
       "<table border=\"1\" class=\"dataframe\">\n",
       "  <thead>\n",
       "    <tr style=\"text-align: right;\">\n",
       "      <th></th>\n",
       "      <th>0</th>\n",
       "      <th>1</th>\n",
       "      <th>2</th>\n",
       "      <th>3</th>\n",
       "      <th>4</th>\n",
       "    </tr>\n",
       "  </thead>\n",
       "  <tbody>\n",
       "    <tr>\n",
       "      <th>Time</th>\n",
       "      <td>0.000000</td>\n",
       "      <td>0.000000</td>\n",
       "      <td>1.000000</td>\n",
       "      <td>1.000000</td>\n",
       "      <td>2.000000</td>\n",
       "    </tr>\n",
       "    <tr>\n",
       "      <th>V1</th>\n",
       "      <td>-1.359807</td>\n",
       "      <td>1.191857</td>\n",
       "      <td>-1.358354</td>\n",
       "      <td>-0.966272</td>\n",
       "      <td>-1.158233</td>\n",
       "    </tr>\n",
       "    <tr>\n",
       "      <th>V2</th>\n",
       "      <td>-0.072781</td>\n",
       "      <td>0.266151</td>\n",
       "      <td>-1.340163</td>\n",
       "      <td>-0.185226</td>\n",
       "      <td>0.877737</td>\n",
       "    </tr>\n",
       "    <tr>\n",
       "      <th>V3</th>\n",
       "      <td>2.536347</td>\n",
       "      <td>0.166480</td>\n",
       "      <td>1.773209</td>\n",
       "      <td>1.792993</td>\n",
       "      <td>1.548718</td>\n",
       "    </tr>\n",
       "    <tr>\n",
       "      <th>V4</th>\n",
       "      <td>1.378155</td>\n",
       "      <td>0.448154</td>\n",
       "      <td>0.379780</td>\n",
       "      <td>-0.863291</td>\n",
       "      <td>0.403034</td>\n",
       "    </tr>\n",
       "    <tr>\n",
       "      <th>V5</th>\n",
       "      <td>-0.338321</td>\n",
       "      <td>0.060018</td>\n",
       "      <td>-0.503198</td>\n",
       "      <td>-0.010309</td>\n",
       "      <td>-0.407193</td>\n",
       "    </tr>\n",
       "    <tr>\n",
       "      <th>V6</th>\n",
       "      <td>0.462388</td>\n",
       "      <td>-0.082361</td>\n",
       "      <td>1.800499</td>\n",
       "      <td>1.247203</td>\n",
       "      <td>0.095921</td>\n",
       "    </tr>\n",
       "    <tr>\n",
       "      <th>V7</th>\n",
       "      <td>0.239599</td>\n",
       "      <td>-0.078803</td>\n",
       "      <td>0.791461</td>\n",
       "      <td>0.237609</td>\n",
       "      <td>0.592941</td>\n",
       "    </tr>\n",
       "    <tr>\n",
       "      <th>V8</th>\n",
       "      <td>0.098698</td>\n",
       "      <td>0.085102</td>\n",
       "      <td>0.247676</td>\n",
       "      <td>0.377436</td>\n",
       "      <td>-0.270533</td>\n",
       "    </tr>\n",
       "    <tr>\n",
       "      <th>V9</th>\n",
       "      <td>0.363787</td>\n",
       "      <td>-0.255425</td>\n",
       "      <td>-1.514654</td>\n",
       "      <td>-1.387024</td>\n",
       "      <td>0.817739</td>\n",
       "    </tr>\n",
       "    <tr>\n",
       "      <th>V10</th>\n",
       "      <td>0.090794</td>\n",
       "      <td>-0.166974</td>\n",
       "      <td>0.207643</td>\n",
       "      <td>-0.054952</td>\n",
       "      <td>0.753074</td>\n",
       "    </tr>\n",
       "    <tr>\n",
       "      <th>V11</th>\n",
       "      <td>-0.551600</td>\n",
       "      <td>1.612727</td>\n",
       "      <td>0.624501</td>\n",
       "      <td>-0.226487</td>\n",
       "      <td>-0.822843</td>\n",
       "    </tr>\n",
       "    <tr>\n",
       "      <th>V12</th>\n",
       "      <td>-0.617801</td>\n",
       "      <td>1.065235</td>\n",
       "      <td>0.066084</td>\n",
       "      <td>0.178228</td>\n",
       "      <td>0.538196</td>\n",
       "    </tr>\n",
       "    <tr>\n",
       "      <th>V13</th>\n",
       "      <td>-0.991390</td>\n",
       "      <td>0.489095</td>\n",
       "      <td>0.717293</td>\n",
       "      <td>0.507757</td>\n",
       "      <td>1.345852</td>\n",
       "    </tr>\n",
       "    <tr>\n",
       "      <th>V14</th>\n",
       "      <td>-0.311169</td>\n",
       "      <td>-0.143772</td>\n",
       "      <td>-0.165946</td>\n",
       "      <td>-0.287924</td>\n",
       "      <td>-1.119670</td>\n",
       "    </tr>\n",
       "    <tr>\n",
       "      <th>V15</th>\n",
       "      <td>1.468177</td>\n",
       "      <td>0.635558</td>\n",
       "      <td>2.345865</td>\n",
       "      <td>-0.631418</td>\n",
       "      <td>0.175121</td>\n",
       "    </tr>\n",
       "    <tr>\n",
       "      <th>V16</th>\n",
       "      <td>-0.470401</td>\n",
       "      <td>0.463917</td>\n",
       "      <td>-2.890083</td>\n",
       "      <td>-1.059647</td>\n",
       "      <td>-0.451449</td>\n",
       "    </tr>\n",
       "    <tr>\n",
       "      <th>V17</th>\n",
       "      <td>0.207971</td>\n",
       "      <td>-0.114805</td>\n",
       "      <td>1.109969</td>\n",
       "      <td>-0.684093</td>\n",
       "      <td>-0.237033</td>\n",
       "    </tr>\n",
       "    <tr>\n",
       "      <th>V18</th>\n",
       "      <td>0.025791</td>\n",
       "      <td>-0.183361</td>\n",
       "      <td>-0.121359</td>\n",
       "      <td>1.965775</td>\n",
       "      <td>-0.038195</td>\n",
       "    </tr>\n",
       "    <tr>\n",
       "      <th>V19</th>\n",
       "      <td>0.403993</td>\n",
       "      <td>-0.145783</td>\n",
       "      <td>-2.261857</td>\n",
       "      <td>-1.232622</td>\n",
       "      <td>0.803487</td>\n",
       "    </tr>\n",
       "    <tr>\n",
       "      <th>V20</th>\n",
       "      <td>0.251412</td>\n",
       "      <td>-0.069083</td>\n",
       "      <td>0.524980</td>\n",
       "      <td>-0.208038</td>\n",
       "      <td>0.408542</td>\n",
       "    </tr>\n",
       "    <tr>\n",
       "      <th>V21</th>\n",
       "      <td>-0.018307</td>\n",
       "      <td>-0.225775</td>\n",
       "      <td>0.247998</td>\n",
       "      <td>-0.108300</td>\n",
       "      <td>-0.009431</td>\n",
       "    </tr>\n",
       "    <tr>\n",
       "      <th>V22</th>\n",
       "      <td>0.277838</td>\n",
       "      <td>-0.638672</td>\n",
       "      <td>0.771679</td>\n",
       "      <td>0.005274</td>\n",
       "      <td>0.798278</td>\n",
       "    </tr>\n",
       "    <tr>\n",
       "      <th>V23</th>\n",
       "      <td>-0.110474</td>\n",
       "      <td>0.101288</td>\n",
       "      <td>0.909412</td>\n",
       "      <td>-0.190321</td>\n",
       "      <td>-0.137458</td>\n",
       "    </tr>\n",
       "    <tr>\n",
       "      <th>V24</th>\n",
       "      <td>0.066928</td>\n",
       "      <td>-0.339846</td>\n",
       "      <td>-0.689281</td>\n",
       "      <td>-1.175575</td>\n",
       "      <td>0.141267</td>\n",
       "    </tr>\n",
       "    <tr>\n",
       "      <th>V25</th>\n",
       "      <td>0.128539</td>\n",
       "      <td>0.167170</td>\n",
       "      <td>-0.327642</td>\n",
       "      <td>0.647376</td>\n",
       "      <td>-0.206010</td>\n",
       "    </tr>\n",
       "    <tr>\n",
       "      <th>V26</th>\n",
       "      <td>-0.189115</td>\n",
       "      <td>0.125895</td>\n",
       "      <td>-0.139097</td>\n",
       "      <td>-0.221929</td>\n",
       "      <td>0.502292</td>\n",
       "    </tr>\n",
       "    <tr>\n",
       "      <th>V27</th>\n",
       "      <td>0.133558</td>\n",
       "      <td>-0.008983</td>\n",
       "      <td>-0.055353</td>\n",
       "      <td>0.062723</td>\n",
       "      <td>0.219422</td>\n",
       "    </tr>\n",
       "    <tr>\n",
       "      <th>V28</th>\n",
       "      <td>-0.021053</td>\n",
       "      <td>0.014724</td>\n",
       "      <td>-0.059752</td>\n",
       "      <td>0.061458</td>\n",
       "      <td>0.215153</td>\n",
       "    </tr>\n",
       "    <tr>\n",
       "      <th>Amount</th>\n",
       "      <td>149.620000</td>\n",
       "      <td>2.690000</td>\n",
       "      <td>378.660000</td>\n",
       "      <td>123.500000</td>\n",
       "      <td>69.990000</td>\n",
       "    </tr>\n",
       "    <tr>\n",
       "      <th>Class</th>\n",
       "      <td>0.000000</td>\n",
       "      <td>0.000000</td>\n",
       "      <td>0.000000</td>\n",
       "      <td>0.000000</td>\n",
       "      <td>0.000000</td>\n",
       "    </tr>\n",
       "  </tbody>\n",
       "</table>\n",
       "</div>"
      ],
      "text/plain": [
       "                 0         1           2           3          4\n",
       "Time      0.000000  0.000000    1.000000    1.000000   2.000000\n",
       "V1       -1.359807  1.191857   -1.358354   -0.966272  -1.158233\n",
       "V2       -0.072781  0.266151   -1.340163   -0.185226   0.877737\n",
       "V3        2.536347  0.166480    1.773209    1.792993   1.548718\n",
       "V4        1.378155  0.448154    0.379780   -0.863291   0.403034\n",
       "V5       -0.338321  0.060018   -0.503198   -0.010309  -0.407193\n",
       "V6        0.462388 -0.082361    1.800499    1.247203   0.095921\n",
       "V7        0.239599 -0.078803    0.791461    0.237609   0.592941\n",
       "V8        0.098698  0.085102    0.247676    0.377436  -0.270533\n",
       "V9        0.363787 -0.255425   -1.514654   -1.387024   0.817739\n",
       "V10       0.090794 -0.166974    0.207643   -0.054952   0.753074\n",
       "V11      -0.551600  1.612727    0.624501   -0.226487  -0.822843\n",
       "V12      -0.617801  1.065235    0.066084    0.178228   0.538196\n",
       "V13      -0.991390  0.489095    0.717293    0.507757   1.345852\n",
       "V14      -0.311169 -0.143772   -0.165946   -0.287924  -1.119670\n",
       "V15       1.468177  0.635558    2.345865   -0.631418   0.175121\n",
       "V16      -0.470401  0.463917   -2.890083   -1.059647  -0.451449\n",
       "V17       0.207971 -0.114805    1.109969   -0.684093  -0.237033\n",
       "V18       0.025791 -0.183361   -0.121359    1.965775  -0.038195\n",
       "V19       0.403993 -0.145783   -2.261857   -1.232622   0.803487\n",
       "V20       0.251412 -0.069083    0.524980   -0.208038   0.408542\n",
       "V21      -0.018307 -0.225775    0.247998   -0.108300  -0.009431\n",
       "V22       0.277838 -0.638672    0.771679    0.005274   0.798278\n",
       "V23      -0.110474  0.101288    0.909412   -0.190321  -0.137458\n",
       "V24       0.066928 -0.339846   -0.689281   -1.175575   0.141267\n",
       "V25       0.128539  0.167170   -0.327642    0.647376  -0.206010\n",
       "V26      -0.189115  0.125895   -0.139097   -0.221929   0.502292\n",
       "V27       0.133558 -0.008983   -0.055353    0.062723   0.219422\n",
       "V28      -0.021053  0.014724   -0.059752    0.061458   0.215153\n",
       "Amount  149.620000  2.690000  378.660000  123.500000  69.990000\n",
       "Class     0.000000  0.000000    0.000000    0.000000   0.000000"
      ]
     },
     "execution_count": 3,
     "metadata": {},
     "output_type": "execute_result"
    }
   ],
   "source": [
    "bag = MyBunch()\n",
    "bag.strong_predictor_flag  = False  # option to add a column which is a strong predictor\n",
    "bag.strong_predictor_size  = 0.2\n",
    "bag.strong_predictor_noise = 0.2\n",
    "bag.train_share = 0.7\n",
    "\n",
    "load_csv_data(bag) # bag.df_orig, bag.data_cols\n",
    "# pd.set_option('precision', 3)\n",
    "# bag.df_orig.head(5).T # to view the data\n",
    "# dfcols = list(bag.df_orig.columns)\n",
    "# dfcols = dfcols[:-1]\n",
    "# print(dfcols)\n",
    "# bag.df_orig = bag.df_orig[dfcols].copy()\n",
    "bag.df_orig.head(5).T # to view the data"
   ]
  },
  {
   "cell_type": "code",
   "execution_count": 4,
   "metadata": {},
   "outputs": [
    {
     "data": {
      "text/plain": [
       "0    284315\n",
       "1       492\n",
       "Name: Class, dtype: int64"
      ]
     },
     "execution_count": 4,
     "metadata": {},
     "output_type": "execute_result"
    }
   ],
   "source": [
    "bag.df_orig[\"Class\"].value_counts()"
   ]
  },
  {
   "cell_type": "code",
   "execution_count": 5,
   "metadata": {},
   "outputs": [],
   "source": [
    "def split_into_training_and_test(bag):\n",
    "    \"\"\"\n",
    "    # splits data into two dataframes: df & df_t\n",
    "    \"\"\"\n",
    "    # -------------------------------------\n",
    "    print(\"Randomly select ~70% of data in both classes (majority and minority) for training.\")\n",
    "    print(\"The rest will be for testing.\")\n",
    "    df = bag.df_orig.copy()\n",
    "    train_share = bag.train_share\n",
    "    mycols = list(df.columns)\n",
    "    mask = df[\"Class\"] > 0.5\n",
    "    dfs = df[mask].copy()\n",
    "    dfo = df[~mask].copy()\n",
    "\n",
    "    len_dfs = len(dfs)\n",
    "    len_dfo = len(dfo)\n",
    "    ns = int(train_share*len_dfs)\n",
    "    no = int(train_share*len_dfo)\n",
    "\n",
    "    # dfs - add randomly shuffled column \"xx\", sort by it, then remove it\n",
    "    xx = [ii for ii in range(len_dfs)]\n",
    "    random.shuffle(xx) # shuffle in place\n",
    "    dfs['xx'] = xx\n",
    "    dfs = dfs.sort_values(by=['xx'], axis=0, ascending=True, inplace=False)\n",
    "    if 'xx' in dfs.columns:\n",
    "        del dfs['xx']\n",
    "\n",
    "    dfs = dfs[mycols]\n",
    "    dfs.index = range(len(dfs))\n",
    "    dfs_t = dfs[ns+1:].copy()\n",
    "    dfs   = dfs[:ns]\n",
    "\n",
    "    # dfo - add randomly shuffled column \"xx\", sort by it, then remove it\n",
    "    xx = [ii for ii in range(len_dfo)]\n",
    "    random.shuffle(xx) # shuffle in place\n",
    "    dfo['xx'] = xx\n",
    "    dfo = dfo.sort_values(by=['xx'], axis=0, ascending=True, inplace=False)\n",
    "    if 'xx' in dfo.columns:\n",
    "        del dfo['xx']\n",
    "\n",
    "    dfo = dfo[mycols]\n",
    "    dfo.index = range(len(dfo))\n",
    "    dfo_t = dfo[no+1:].copy()\n",
    "    dfo   = dfo[:no]\n",
    "\n",
    "    bag.df   = pd.concat( [dfs   , dfo  ], ignore_index=True)   # training data\n",
    "    bag.df_t = pd.concat( [dfs_t , dfo_t], ignore_index=True)   # testing data"
   ]
  },
  {
   "cell_type": "code",
   "execution_count": 6,
   "metadata": {},
   "outputs": [],
   "source": [
    "def form_data_and_target_arrays(bag):\n",
    "    \"\"\"\n",
    "    # populates bag.target, bag.target_t, bag.data, bag.data_t\n",
    "    \"\"\"\n",
    "    bag.target   = bag.df[\"Class\"].values\n",
    "    bag.target_t = bag.df_t[\"Class\"].values\n",
    "\n",
    "    print(\"make two-dim array from df[data_col]\")\n",
    "    bag.data   = bag.df[bag.data_cols].values\n",
    "    bag.data_t = bag.df_t[bag.data_cols].values\n",
    "    print(\"data.shape   =\", bag.data.shape)\n",
    "    print(\"target.shape =\", bag.target.shape)"
   ]
  },
  {
   "cell_type": "code",
   "execution_count": 7,
   "metadata": {},
   "outputs": [
    {
     "name": "stdout",
     "output_type": "stream",
     "text": [
      "Randomly select ~70% of data in both classes (majority and minority) for training.\n",
      "The rest will be for testing.\n",
      "make two-dim array from df[data_col]\n",
      "data.shape   = (199364, 30)\n",
      "target.shape = (199364,)\n"
     ]
    }
   ],
   "source": [
    "split_into_training_and_test(bag) # bag.df, bag.df_t\n",
    "form_data_and_target_arrays(bag)  # bag.target, bag.target_t, bag.data, bag.data_t"
   ]
  },
  {
   "cell_type": "code",
   "execution_count": 8,
   "metadata": {},
   "outputs": [],
   "source": [
    "# add noise into bag.data (for testing)\n",
    "# bag.data = bag.data + 20.0*np.random.uniform(size=bag.data.shape)"
   ]
  },
  {
   "cell_type": "code",
   "execution_count": 9,
   "metadata": {},
   "outputs": [
    {
     "data": {
      "text/plain": [
       "array([[ 1.32688000e+05,  4.32554462e-01,  1.86137334e+00, ...,\n",
       "         3.87038911e-01,  3.19401535e-01,  1.00000000e+00],\n",
       "       [ 1.72300000e+04, -4.69326705e-01,  1.11145278e+00, ...,\n",
       "        -1.00845187e-01,  3.93471477e-02,  3.93000000e+00],\n",
       "       [ 9.43620000e+04, -2.64577447e+01,  1.64974719e+01, ...,\n",
       "        -7.26348215e+00, -1.32488431e+00,  1.00000000e+00],\n",
       "       ...,\n",
       "       [ 1.22122000e+05,  2.12993696e+00, -6.46441571e-01, ...,\n",
       "        -9.08743665e-02, -5.84816059e-02,  5.40700000e+01],\n",
       "       [ 1.38725000e+05,  1.71766127e+00, -4.10769435e-01, ...,\n",
       "         7.27413286e-02,  2.10572405e-03,  7.80500000e+01],\n",
       "       [ 9.64370000e+04,  1.03022624e-01,  1.23396616e+00, ...,\n",
       "         4.52407096e-01,  3.15382742e-01,  7.60000000e-01]])"
      ]
     },
     "execution_count": 9,
     "metadata": {},
     "output_type": "execute_result"
    }
   ],
   "source": [
    "bag.data # Numpy Array\n",
    "# bag.df[\"Class\"].tail()\n",
    "# bag.bag.df_t[\"Class\"].tail()\n",
    "# bag.df[bag.data_cols].head()\n",
    "# bag.df_t[bag.data_cols].head()"
   ]
  },
  {
   "cell_type": "code",
   "execution_count": 10,
   "metadata": {},
   "outputs": [],
   "source": [
    "def plot_confusion_matrix(cm, title, classes=['abnormal', 'normal'],\n",
    "                          cmap=plt.cm.Blues, save=False, saveas=\"MyFigure.png\"):\n",
    "    \"\"\"\n",
    "    # print Confusion matrix with blue gradient colours\n",
    "    #   cm = confusion_matrix(y_train_sa, y_pred_train)\n",
    "    #   plot_confusion_matrix(cm, title=\"IF Confusion Matrix - SA\", save=True, saveas=\"IF_SA.png\")\n",
    "    \"\"\"\n",
    "    cm = cm.astype('float') / cm.sum(axis=1)[:, np.newaxis]\n",
    "    \n",
    "    plt.imshow(cm, interpolation='nearest', cmap=cmap)\n",
    "    plt.title(title)\n",
    "    plt.colorbar()\n",
    "    tick_marks = np.arange(len(classes))\n",
    "    plt.xticks(tick_marks, classes, rotation=90)\n",
    "    plt.yticks(tick_marks, classes)\n",
    "\n",
    "    fmt = '.1%'\n",
    "    thresh = cm.max() / 2.\n",
    "    for i, j in itertools.product(range(cm.shape[0]), range(cm.shape[1])):\n",
    "        plt.text(j, i, format(cm[i, j], fmt),\n",
    "                 horizontalalignment=\"center\",\n",
    "                 color=\"white\" if cm[i, j] > thresh else \"black\")\n",
    "\n",
    "    plt.tight_layout()\n",
    "    plt.ylabel('True label')\n",
    "    plt.xlabel('Predicted label')\n",
    "    \n",
    "    if save:\n",
    "        plt.savefig(saveas, dpi=100)"
   ]
  },
  {
   "cell_type": "code",
   "execution_count": 11,
   "metadata": {},
   "outputs": [],
   "source": [
    "def run_lg(bag, data=None, target=None):\n",
    "    \"\"\"\n",
    "    # runs logistic regression\n",
    "    # returns tuple (model, expected, predicted, confusion)\n",
    "    \"\"\"\n",
    "    print(\"run Logistic Regression (fit the model):\")\n",
    "    model = LogisticRegression(class_weight=\"balanced\")\n",
    "    model.fit(data, target)\n",
    "    print(\"\\ndata %s, target %s\" % (data.shape, target.shape))\n",
    "    expected = target\n",
    "    predicted = model.predict(data)\n",
    "    print(metrics.classification_report(expected, predicted))\n",
    "    confusion = metrics.confusion_matrix(expected, predicted)\n",
    "    print(confusion)\n",
    "    return(model, expected, predicted, confusion)\n"
   ]
  },
  {
   "cell_type": "code",
   "execution_count": 12,
   "metadata": {},
   "outputs": [
    {
     "name": "stdout",
     "output_type": "stream",
     "text": [
      "run Logistic Regression (fit the model):\n",
      "\n",
      "data (199364, 30), target (199364,)\n",
      "              precision    recall  f1-score   support\n",
      "\n",
      "           0       1.00      0.97      0.98    199020\n",
      "           1       0.05      0.91      0.09       344\n",
      "\n",
      "    accuracy                           0.97    199364\n",
      "   macro avg       0.52      0.94      0.54    199364\n",
      "weighted avg       1.00      0.97      0.98    199364\n",
      "\n",
      "[[192903   6117]\n",
      " [    30    314]]\n"
     ]
    }
   ],
   "source": [
    "(bag.model, bag.expected, bag.predicted, bag.confusion) = \\\n",
    "  run_lg(bag, data=bag.data, target=bag.target)"
   ]
  },
  {
   "cell_type": "code",
   "execution_count": 13,
   "metadata": {},
   "outputs": [
    {
     "data": {
      "text/plain": [
       "array([1, 0, 1, ..., 0, 0, 0])"
      ]
     },
     "execution_count": 13,
     "metadata": {},
     "output_type": "execute_result"
    }
   ],
   "source": [
    "bag.model.predict(bag.data)"
   ]
  },
  {
   "cell_type": "code",
   "execution_count": 14,
   "metadata": {},
   "outputs": [
    {
     "data": {
      "text/plain": [
       "array([[7.53846138e-04, 9.99246154e-01],\n",
       "       [6.50414252e-01, 3.49585748e-01],\n",
       "       [0.00000000e+00, 1.00000000e+00],\n",
       "       ...,\n",
       "       [9.36170374e-01, 6.38296264e-02],\n",
       "       [9.70180318e-01, 2.98196818e-02],\n",
       "       [8.99152933e-01, 1.00847067e-01]])"
      ]
     },
     "execution_count": 14,
     "metadata": {},
     "output_type": "execute_result"
    }
   ],
   "source": [
    "bag.model.predict_proba(bag.data)"
   ]
  },
  {
   "cell_type": "code",
   "execution_count": 15,
   "metadata": {},
   "outputs": [],
   "source": [
    "def show_predict_proba(bag, model=None, data=None, data_t=None):\n",
    "    \"\"\"\n",
    "    # shows predicted probability (for viewing)\n",
    "    # model.predict_proba(data)\n",
    "    # accepts array of shape [n_samples, n_features]\n",
    "    # returns array of shape [n_samples, n_classes]\n",
    "    # For binary classification it will be:\n",
    "    # [ [prob_of_zero, prob_of_one],\n",
    "    #   [prob_of_zero, prob_of_one],\n",
    "    #   etc.]\n",
    "    \"\"\"\n",
    "    print(model.predict_proba(data))\n",
    "    y_pred_prob_0   = model.predict_proba(data)[:, 0]\n",
    "    y_pred_prob_1   = model.predict_proba(data)[:, 1]\n",
    "    y_pred_prob_0_t = model.predict_proba(data_t)[:, 0]\n",
    "    y_pred_prob_1_t = model.predict_proba(data_t)[:, 1]\n",
    "\n",
    "    plt.rcParams['font.size'] = 12\n",
    "    fig, axes = plt.subplots(nrows=2, ncols=2)\n",
    "    ax0, ax1, ax2, ax3 = axes.flatten()\n",
    "\n",
    "    ax0.hist(y_pred_prob_0, bins=100)\n",
    "    ax0.set_title('y_pred_prob_0')\n",
    "\n",
    "    ax1.hist(y_pred_prob_1, bins=100)\n",
    "    ax1.set_title('y_pred_prob_1')\n",
    "\n",
    "    ax2.hist(y_pred_prob_0_t, bins=100)\n",
    "    ax2.set_title('y_pred_prob_0_t')\n",
    "\n",
    "    ax3.hist(y_pred_prob_1_t, bins=100)\n",
    "    ax3.set_title('y_pred_prob_1_t')\n",
    "\n",
    "    fig.tight_layout()\n",
    "    plt.show()"
   ]
  },
  {
   "cell_type": "code",
   "execution_count": 16,
   "metadata": {},
   "outputs": [
    {
     "name": "stdout",
     "output_type": "stream",
     "text": [
      "[[7.53846138e-04 9.99246154e-01]\n",
      " [6.50414252e-01 3.49585748e-01]\n",
      " [0.00000000e+00 1.00000000e+00]\n",
      " ...\n",
      " [9.36170374e-01 6.38296264e-02]\n",
      " [9.70180318e-01 2.98196818e-02]\n",
      " [8.99152933e-01 1.00847067e-01]]\n"
     ]
    },
    {
     "data": {
      "image/png": "[encoded data removed]",
      "text/plain": [
       "<Figure size 432x288 with 4 Axes>"
      ]
     },
     "metadata": {
      "needs_background": "light"
     },
     "output_type": "display_data"
    }
   ],
   "source": [
    "show_predict_proba(bag, model=bag.model, data=bag.data, data_t=bag.data_t)"
   ]
  },
  {
   "cell_type": "code",
   "execution_count": 17,
   "metadata": {},
   "outputs": [],
   "source": [
    "def show_thresholding(bag, model=None, data=None, expected=None):\n",
    "    \"\"\"\n",
    "    # show_thresholding\n",
    "    \"\"\"\n",
    "    predict_proba = model.predict_proba(data)\n",
    "    for threshold in [0.3, 0.4, 0.5, 0.6, 0.7]:\n",
    "        predicted_tmp = binarize(predict_proba, threshold=threshold)[:,1]\n",
    "        confusion_tmp = metrics.confusion_matrix(expected, predicted_tmp)\n",
    "        recall_tmp    = metrics.recall_score(expected, predicted_tmp)\n",
    "        precision_tmp  = metrics.precision_score(expected, predicted_tmp)\n",
    "        print(\"\\nconfusion_%.1f\\n\" % threshold, confusion_tmp)\n",
    "        print(\"recall=%.3f, precision=%.3f\" % (recall_tmp, precision_tmp))"
   ]
  },
  {
   "cell_type": "code",
   "execution_count": 18,
   "metadata": {},
   "outputs": [
    {
     "name": "stdout",
     "output_type": "stream",
     "text": [
      "\n",
      "confusion_0.3\n",
      " [[77943  7351]\n",
      " [   13   134]]\n",
      "recall=0.912, precision=0.018\n",
      "\n",
      "confusion_0.4\n",
      " [[81021  4273]\n",
      " [   18   129]]\n",
      "recall=0.878, precision=0.029\n",
      "\n",
      "confusion_0.5\n",
      " [[82623  2671]\n",
      " [   18   129]]\n",
      "recall=0.878, precision=0.046\n",
      "\n",
      "confusion_0.6\n",
      " [[83600  1694]\n",
      " [   18   129]]\n",
      "recall=0.878, precision=0.071\n",
      "\n",
      "confusion_0.7\n",
      " [[84183  1111]\n",
      " [   20   127]]\n",
      "recall=0.864, precision=0.103\n"
     ]
    }
   ],
   "source": [
    "show_thresholding(bag, model=bag.model, data=bag.data_t, expected=bag.target_t)"
   ]
  },
  {
   "cell_type": "markdown",
   "metadata": {},
   "source": [
    "<pre>Confusion matrix:\n",
    "    True  Negative    False Positive\n",
    "    False Negative     True Positive</pre>"
   ]
  },
  {
   "cell_type": "code",
   "execution_count": 19,
   "metadata": {},
   "outputs": [],
   "source": [
    "def show_roc_curve(bag, target=None, predict_proba=None):\n",
    "    \"\"\"\n",
    "    # ROC curve = (Receiver Operating Characteristic curve)\n",
    "    # was first developed during World War II for detecting enemy objects in battlefields.\n",
    "    # plotting True Positive Rate (TPR) vs False Positive Rate (FPR) at various thresholds.\n",
    "    # TPR a.k.a. sensitivity, recall, or probability of detection.\n",
    "    # FPR a.k.a fall-out or probability of false alarm = (1-specificity).\n",
    "    # So ROC curve is the sensitivity as a function of fall-out.\n",
    "    \"\"\"\n",
    "    fpr, tpr, thresholds = metrics.roc_curve(target, predict_proba[:,1])\n",
    "    plt.plot(fpr, tpr, linewidth=3.0, color='red')\n",
    "    plt.xlim([0.0, 1.0])\n",
    "    plt.ylim([0.0, 1.0])\n",
    "    plt.title('ROC Curve')\n",
    "    plt.xlabel('False Positive Rate (1 - Specificity)')\n",
    "    plt.ylabel('True Positive Rate (Sensitivity)')\n",
    "    plt.grid(True)"
   ]
  },
  {
   "cell_type": "code",
   "execution_count": 20,
   "metadata": {},
   "outputs": [
    {
     "data": {
      "image/png": "[encoded data removed]",
      "text/plain": [
       "<Figure size 432x288 with 1 Axes>"
      ]
     },
     "metadata": {
      "needs_background": "light"
     },
     "output_type": "display_data"
    }
   ],
   "source": [
    "predict_proba = bag.model.predict_proba(bag.data)\n",
    "# predict_proba\n",
    "show_roc_curve(bag, target=bag.target, predict_proba=predict_proba)"
   ]
  },
  {
   "cell_type": "code",
   "execution_count": 21,
   "metadata": {},
   "outputs": [
    {
     "name": "stdout",
     "output_type": "stream",
     "text": [
      "AUC = 0.9789\n"
     ]
    }
   ],
   "source": [
    "#Now add AUC (Area Under Curve) under the curve\n",
    "fpr, tpr, thresholds = metrics.roc_curve(bag.target, predict_proba[:,1])\n",
    "print(\"AUC = %.4f\" % float(metrics.auc(fpr, tpr)))"
   ]
  },
  {
   "cell_type": "code",
   "execution_count": null,
   "metadata": {},
   "outputs": [],
   "source": []
  }
 ],
 "metadata": {
  "kernelspec": {
   "display_name": "Python 3 (ipykernel)",
   "language": "python",
   "name": "python3"
  },
  "language_info": {
   "codemirror_mode": {
    "name": "ipython",
    "version": 3
   },
   "file_extension": ".py",
   "mimetype": "text/x-python",
   "name": "python",
   "nbconvert_exporter": "python",
   "pygments_lexer": "ipython3",
   "version": "3.9.12"
  }
 },
 "nbformat": 4,
 "nbformat_minor": 2
}
