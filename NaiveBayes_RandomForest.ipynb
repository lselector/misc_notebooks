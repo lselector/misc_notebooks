{
 "cells": [
  {
   "cell_type": "markdown",
   "metadata": {
    "slideshow": {
     "slide_type": "slide"
    }
   },
   "source": [
    "# Naive Bayes and Random Forest\n",
    "<pre>\n",
    "Example of NB model giving big errors (compared to RF).\n",
    "Even for simple cases when features are perfect predictors\n",
    "</pre>"
   ]
  },
  {
   "cell_type": "code",
   "execution_count": 1,
   "metadata": {},
   "outputs": [],
   "source": [
    "import sys, os\n",
    "import pandas as pd\n",
    "import numpy as np\n",
    "from util_jupyter import *\n",
    "from util_models import *\n",
    "from sklearn.naive_bayes import MultinomialNB, BernoulliNB, ComplementNB\n",
    "from sklearn.ensemble import RandomForestClassifier\n",
    "from sklearn.preprocessing import OneHotEncoder"
   ]
  },
  {
   "cell_type": "code",
   "execution_count": 2,
   "metadata": {},
   "outputs": [
    {
     "data": {
      "text/html": [
       "<div>\n",
       "<style scoped>\n",
       "    .dataframe tbody tr th:only-of-type {\n",
       "        vertical-align: middle;\n",
       "    }\n",
       "\n",
       "    .dataframe tbody tr th {\n",
       "        vertical-align: top;\n",
       "    }\n",
       "\n",
       "    .dataframe thead th {\n",
       "        text-align: right;\n",
       "    }\n",
       "</style>\n",
       "<table border=\"1\" class=\"dataframe\">\n",
       "  <thead>\n",
       "    <tr style=\"text-align: right;\">\n",
       "      <th></th>\n",
       "      <th>F1</th>\n",
       "      <th>F11</th>\n",
       "      <th>F111</th>\n",
       "      <th>Class</th>\n",
       "    </tr>\n",
       "  </thead>\n",
       "  <tbody>\n",
       "    <tr>\n",
       "      <th>0</th>\n",
       "      <td>1</td>\n",
       "      <td>1</td>\n",
       "      <td>1</td>\n",
       "      <td>1</td>\n",
       "    </tr>\n",
       "    <tr>\n",
       "      <th>1</th>\n",
       "      <td>1</td>\n",
       "      <td>1</td>\n",
       "      <td>1</td>\n",
       "      <td>1</td>\n",
       "    </tr>\n",
       "    <tr>\n",
       "      <th>2</th>\n",
       "      <td>0</td>\n",
       "      <td>0</td>\n",
       "      <td>0</td>\n",
       "      <td>0</td>\n",
       "    </tr>\n",
       "    <tr>\n",
       "      <th>3</th>\n",
       "      <td>0</td>\n",
       "      <td>0</td>\n",
       "      <td>0</td>\n",
       "      <td>0</td>\n",
       "    </tr>\n",
       "  </tbody>\n",
       "</table>\n",
       "</div>"
      ],
      "text/plain": [
       "   F1  F11  F111  Class\n",
       "0   1    1     1      1\n",
       "1   1    1     1      1\n",
       "2   0    0     0      0\n",
       "3   0    0     0      0"
      ]
     },
     "metadata": {},
     "output_type": "display_data"
    },
    {
     "data": {
      "text/html": [
       "<div>\n",
       "<style scoped>\n",
       "    .dataframe tbody tr th:only-of-type {\n",
       "        vertical-align: middle;\n",
       "    }\n",
       "\n",
       "    .dataframe tbody tr th {\n",
       "        vertical-align: top;\n",
       "    }\n",
       "\n",
       "    .dataframe thead th {\n",
       "        text-align: right;\n",
       "    }\n",
       "</style>\n",
       "<table border=\"1\" class=\"dataframe\">\n",
       "  <thead>\n",
       "    <tr style=\"text-align: right;\">\n",
       "      <th></th>\n",
       "      <th>F1</th>\n",
       "    </tr>\n",
       "  </thead>\n",
       "  <tbody>\n",
       "    <tr>\n",
       "      <th>0</th>\n",
       "      <td>1</td>\n",
       "    </tr>\n",
       "    <tr>\n",
       "      <th>1</th>\n",
       "      <td>1</td>\n",
       "    </tr>\n",
       "    <tr>\n",
       "      <th>2</th>\n",
       "      <td>0</td>\n",
       "    </tr>\n",
       "    <tr>\n",
       "      <th>3</th>\n",
       "      <td>0</td>\n",
       "    </tr>\n",
       "  </tbody>\n",
       "</table>\n",
       "</div>"
      ],
      "text/plain": [
       "   F1\n",
       "0   1\n",
       "1   1\n",
       "2   0\n",
       "3   0"
      ]
     },
     "metadata": {},
     "output_type": "display_data"
    },
    {
     "data": {
      "text/plain": [
       "array([1, 1, 0, 0])"
      ]
     },
     "metadata": {},
     "output_type": "display_data"
    }
   ],
   "source": [
    "# create data - an outcome class column \n",
    "# and several features columns\n",
    "\n",
    "f1 = [1  , 1   , 0 , 0 ]    # Features\n",
    "# f1 = [1  , 1  ,1  ,1  ,1  , 0 , 0, 0, 0, 0 ]    # Features\n",
    "# f2 = [0  , 0  , 1  , 1  ]\n",
    "# f3 = [1.1, 1.2, 0.1, 0.2]\n",
    "# f4 = [2  , 2  , 3  , 3  ]\n",
    "\n",
    "cc = f1.copy()\n",
    "# cc = [1  , 1  ,1  ,1  ,1  , 0 , 0, 0, 0, 0 ]  #Outcome Binary Class\n",
    "\n",
    "df = pd.DataFrame({'F1':f1, 'F11':f1, 'F111':f1, \n",
    "          #         'F2':f2, 'F22':f2,\n",
    "          #         'F3':f3, 'F4':f4, \n",
    "                   'Class':cc})\n",
    "display(df)\n",
    "data = df[['F1']].copy()\n",
    "y = df['Class'].values\n",
    "data_cp = data.copy()\n",
    "display(data)\n",
    "display(y)"
   ]
  },
  {
   "cell_type": "code",
   "execution_count": 3,
   "metadata": {},
   "outputs": [],
   "source": [
    "onehot_enc_num = 0\n",
    "model_type = 'rf' # 'nbb' # nbm, nbb, nbc, rf"
   ]
  },
  {
   "cell_type": "code",
   "execution_count": 4,
   "metadata": {},
   "outputs": [
    {
     "name": "stdout",
     "output_type": "stream",
     "text": [
      "Using data as is (no onehot encoding)\n",
      "   F1\n",
      "0   1\n",
      "1   1\n",
      "2   0\n",
      "3   0 \n",
      " ----------------------------------------\n"
     ]
    },
    {
     "data": {
      "text/html": [
       "<div>\n",
       "<style scoped>\n",
       "    .dataframe tbody tr th:only-of-type {\n",
       "        vertical-align: middle;\n",
       "    }\n",
       "\n",
       "    .dataframe tbody tr th {\n",
       "        vertical-align: top;\n",
       "    }\n",
       "\n",
       "    .dataframe thead th {\n",
       "        text-align: right;\n",
       "    }\n",
       "</style>\n",
       "<table border=\"1\" class=\"dataframe\">\n",
       "  <thead>\n",
       "    <tr style=\"text-align: right;\">\n",
       "      <th></th>\n",
       "      <th>F1</th>\n",
       "      <th>Class</th>\n",
       "      <th>M</th>\n",
       "    </tr>\n",
       "  </thead>\n",
       "  <tbody>\n",
       "    <tr>\n",
       "      <th>0</th>\n",
       "      <td>1</td>\n",
       "      <td>1</td>\n",
       "      <td>0.94</td>\n",
       "    </tr>\n",
       "    <tr>\n",
       "      <th>1</th>\n",
       "      <td>1</td>\n",
       "      <td>1</td>\n",
       "      <td>0.94</td>\n",
       "    </tr>\n",
       "    <tr>\n",
       "      <th>2</th>\n",
       "      <td>0</td>\n",
       "      <td>0</td>\n",
       "      <td>0.04</td>\n",
       "    </tr>\n",
       "    <tr>\n",
       "      <th>3</th>\n",
       "      <td>0</td>\n",
       "      <td>0</td>\n",
       "      <td>0.04</td>\n",
       "    </tr>\n",
       "  </tbody>\n",
       "</table>\n",
       "</div>"
      ],
      "text/plain": [
       "   F1  Class     M\n",
       "0   1      1  0.94\n",
       "1   1      1  0.94\n",
       "2   0      0  0.04\n",
       "3   0      0  0.04"
      ]
     },
     "metadata": {},
     "output_type": "display_data"
    }
   ],
   "source": [
    "data = data_cp.copy()\n",
    "if onehot_enc_num > 0:\n",
    "    print(\"Using onehot encoding\") \n",
    "    enc = OneHotEncoder(sparse=False, categories='auto');\n",
    "    for ii in range(onehot_enc_num):\n",
    "        enc.fit(data);\n",
    "        data = enc.transform(data);\n",
    "else:\n",
    "    print(\"Using data as is (no onehot encoding)\") \n",
    "print(data,\"\\n\",\"-\"*40)\n",
    "# -----------------------\n",
    "model = MultinomialNB()\n",
    "if model_type == 'rf':\n",
    "    model = RandomForestClassifier(n_estimators=100) \n",
    "elif model_type == 'nbb':\n",
    "    model = BernoulliNB()\n",
    "elif model_type == 'nbm':\n",
    "    model = MultinomialNB()\n",
    "elif model_type == 'nbc':\n",
    "    model = ComplementNB()\n",
    "else:\n",
    "    shout_error(\"wrong model label\")\n",
    "# -----------------------\n",
    "model.fit(data, y)\n",
    "y_proba = model.predict_proba(data)[:,1]\n",
    "dft = data_cp.copy()\n",
    "dft['Class'] = y\n",
    "dft['M'] = y_proba\n",
    "display(dft)"
   ]
  },
  {
   "cell_type": "code",
   "execution_count": null,
   "metadata": {},
   "outputs": [],
   "source": []
  }
 ],
 "metadata": {
  "kernel_info": {
   "name": "python3"
  },
  "kernelspec": {
   "display_name": "Python 3",
   "language": "python",
   "name": "python3"
  },
  "language_info": {
   "codemirror_mode": {
    "name": "ipython",
    "version": 3
   },
   "file_extension": ".py",
   "mimetype": "text/x-python",
   "name": "python",
   "nbconvert_exporter": "python",
   "pygments_lexer": "ipython3",
   "version": "3.7.3"
  },
  "nteract": {
   "version": "0.12.3"
  }
 },
 "nbformat": 4,
 "nbformat_minor": 4
}
